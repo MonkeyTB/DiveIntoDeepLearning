{
 "cells": [
  {
   "attachments": {},
   "cell_type": "markdown",
   "metadata": {},
   "source": [
    "# 2 预备知识"
   ]
  },
  {
   "attachments": {},
   "cell_type": "markdown",
   "metadata": {},
   "source": [
    "## 2.1 数据曹祖"
   ]
  },
  {
   "cell_type": "code",
   "execution_count": 1,
   "metadata": {},
   "outputs": [],
   "source": [
    "import tensorflow as tf"
   ]
  },
  {
   "cell_type": "code",
   "execution_count": 2,
   "metadata": {},
   "outputs": [],
   "source": [
    "x = tf.range(12)"
   ]
  },
  {
   "cell_type": "code",
   "execution_count": 3,
   "metadata": {},
   "outputs": [
    {
     "data": {
      "text/plain": [
       "<tf.Tensor: shape=(12,), dtype=int32, numpy=array([ 0,  1,  2,  3,  4,  5,  6,  7,  8,  9, 10, 11])>"
      ]
     },
     "execution_count": 3,
     "metadata": {},
     "output_type": "execute_result"
    }
   ],
   "source": [
    "x"
   ]
  },
  {
   "cell_type": "code",
   "execution_count": 4,
   "metadata": {},
   "outputs": [
    {
     "data": {
      "text/plain": [
       "TensorShape([12])"
      ]
     },
     "execution_count": 4,
     "metadata": {},
     "output_type": "execute_result"
    }
   ],
   "source": [
    "x.shape"
   ]
  },
  {
   "cell_type": "code",
   "execution_count": 6,
   "metadata": {},
   "outputs": [
    {
     "data": {
      "text/plain": [
       "<tf.Tensor: shape=(), dtype=int32, numpy=12>"
      ]
     },
     "execution_count": 6,
     "metadata": {},
     "output_type": "execute_result"
    }
   ],
   "source": [
    "tf.size(x)"
   ]
  },
  {
   "cell_type": "code",
   "execution_count": 7,
   "metadata": {},
   "outputs": [
    {
     "data": {
      "text/plain": [
       "<tf.Tensor: shape=(2, 3, 4), dtype=float32, numpy=\n",
       "array([[[0., 0., 0., 0.],\n",
       "        [0., 0., 0., 0.],\n",
       "        [0., 0., 0., 0.]],\n",
       "\n",
       "       [[0., 0., 0., 0.],\n",
       "        [0., 0., 0., 0.],\n",
       "        [0., 0., 0., 0.]]], dtype=float32)>"
      ]
     },
     "execution_count": 7,
     "metadata": {},
     "output_type": "execute_result"
    }
   ],
   "source": [
    "tf.zeros((2,3,4))"
   ]
  },
  {
   "cell_type": "code",
   "execution_count": 8,
   "metadata": {},
   "outputs": [
    {
     "data": {
      "text/plain": [
       "<tf.Tensor: shape=(2, 3, 4), dtype=float32, numpy=\n",
       "array([[[1., 1., 1., 1.],\n",
       "        [1., 1., 1., 1.],\n",
       "        [1., 1., 1., 1.]],\n",
       "\n",
       "       [[1., 1., 1., 1.],\n",
       "        [1., 1., 1., 1.],\n",
       "        [1., 1., 1., 1.]]], dtype=float32)>"
      ]
     },
     "execution_count": 8,
     "metadata": {},
     "output_type": "execute_result"
    }
   ],
   "source": [
    "tf.ones((2,3,4))"
   ]
  },
  {
   "cell_type": "code",
   "execution_count": 9,
   "metadata": {},
   "outputs": [
    {
     "data": {
      "text/plain": [
       "<tf.Tensor: shape=(2, 3, 4), dtype=float32, numpy=\n",
       "array([[[0.8226247 , 0.70869434, 0.15663719, 0.82590413],\n",
       "        [0.6361418 , 0.37290657, 0.09901857, 0.84918916],\n",
       "        [0.1308366 , 0.16015041, 0.4583999 , 0.1519376 ]],\n",
       "\n",
       "       [[0.9229219 , 0.74498093, 0.36823535, 0.7960671 ],\n",
       "        [0.7759882 , 0.41972876, 0.83587253, 0.483608  ],\n",
       "        [0.8157902 , 0.23192906, 0.44485462, 0.23058903]]], dtype=float32)>"
      ]
     },
     "execution_count": 9,
     "metadata": {},
     "output_type": "execute_result"
    }
   ],
   "source": [
    "tf.random.uniform((2,3,4))"
   ]
  },
  {
   "cell_type": "code",
   "execution_count": 10,
   "metadata": {},
   "outputs": [
    {
     "data": {
      "text/plain": [
       "<tf.Tensor: shape=(3, 3), dtype=int32, numpy=\n",
       "array([[2, 3, 4],\n",
       "       [3, 2, 1],\n",
       "       [3, 4, 5]])>"
      ]
     },
     "execution_count": 10,
     "metadata": {},
     "output_type": "execute_result"
    }
   ],
   "source": [
    "tf.constant([[2,3,4], [3,2,1], [3,4,5]])"
   ]
  },
  {
   "cell_type": "code",
   "execution_count": 13,
   "metadata": {},
   "outputs": [
    {
     "data": {
      "text/plain": [
       "(<tf.Tensor: shape=(2, 4), dtype=float32, numpy=\n",
       " array([[ 3.,  4.,  6., 10.],\n",
       "        [ 4.,  4.,  4.,  4.]], dtype=float32)>,\n",
       " <tf.Tensor: shape=(2, 4), dtype=float32, numpy=\n",
       " array([[-1.,  0.,  2.,  6.],\n",
       "        [ 0.,  0.,  0.,  0.]], dtype=float32)>,\n",
       " <tf.Tensor: shape=(2, 4), dtype=float32, numpy=\n",
       " array([[ 2.,  4.,  8., 16.],\n",
       "        [ 4.,  4.,  4.,  4.]], dtype=float32)>,\n",
       " <tf.Tensor: shape=(2, 4), dtype=float32, numpy=\n",
       " array([[0.5, 1. , 2. , 4. ],\n",
       "        [1. , 1. , 1. , 1. ]], dtype=float32)>,\n",
       " <tf.Tensor: shape=(2, 4), dtype=float32, numpy=\n",
       " array([[ 1.,  4., 16., 64.],\n",
       "        [ 4.,  4.,  4.,  4.]], dtype=float32)>)"
      ]
     },
     "execution_count": 13,
     "metadata": {},
     "output_type": "execute_result"
    }
   ],
   "source": [
    "x = tf.constant([[1.0, 2, 4, 8],[2.0, 2, 2, 2]])\n",
    "y = tf.constant([2.0, 2, 2, 2])\n",
    "x + y, x - y, x * y, x / y, x ** y"
   ]
  },
  {
   "cell_type": "code",
   "execution_count": 14,
   "metadata": {},
   "outputs": [
    {
     "data": {
      "text/plain": [
       "<tf.Tensor: shape=(2, 4), dtype=float32, numpy=\n",
       "array([[2.7182817e+00, 7.3890562e+00, 5.4598148e+01, 2.9809580e+03],\n",
       "       [7.3890562e+00, 7.3890562e+00, 7.3890562e+00, 7.3890562e+00]],\n",
       "      dtype=float32)>"
      ]
     },
     "execution_count": 14,
     "metadata": {},
     "output_type": "execute_result"
    }
   ],
   "source": [
    "tf.exp(x)"
   ]
  },
  {
   "cell_type": "code",
   "execution_count": 28,
   "metadata": {},
   "outputs": [
    {
     "data": {
      "text/plain": [
       "(<tf.Tensor: shape=(6, 4), dtype=float32, numpy=\n",
       " array([[ 0.,  1.,  2.,  3.],\n",
       "        [ 4.,  5.,  6.,  7.],\n",
       "        [ 8.,  9., 10., 11.],\n",
       "        [ 2.,  1.,  4.,  3.],\n",
       "        [ 1.,  2.,  3.,  4.],\n",
       "        [ 3.,  4.,  2.,  1.]], dtype=float32)>,\n",
       " <tf.Tensor: shape=(3, 8), dtype=float32, numpy=\n",
       " array([[ 0.,  1.,  2.,  3.,  2.,  1.,  4.,  3.],\n",
       "        [ 4.,  5.,  6.,  7.,  1.,  2.,  3.,  4.],\n",
       "        [ 8.,  9., 10., 11.,  3.,  4.,  2.,  1.]], dtype=float32)>)"
      ]
     },
     "execution_count": 28,
     "metadata": {},
     "output_type": "execute_result"
    }
   ],
   "source": [
    "x = tf.reshape(tf.range(12, dtype=tf.float32), (3,4))\n",
    "y = tf.constant([[2.,1,4,3], [1,2,3,4], [3,4,2,1]])\n",
    "tf.concat([x,y], axis=0),tf.concat([x,y], axis=1)"
   ]
  },
  {
   "cell_type": "code",
   "execution_count": 29,
   "metadata": {},
   "outputs": [
    {
     "data": {
      "text/plain": [
       "<tf.Tensor: shape=(), dtype=float32, numpy=66.0>"
      ]
     },
     "execution_count": 29,
     "metadata": {},
     "output_type": "execute_result"
    }
   ],
   "source": [
    "tf.reduce_sum(x)"
   ]
  },
  {
   "cell_type": "code",
   "execution_count": 30,
   "metadata": {},
   "outputs": [
    {
     "data": {
      "text/plain": [
       "<tf.Tensor: shape=(3, 2), dtype=int32, numpy=\n",
       "array([[0, 1],\n",
       "       [1, 2],\n",
       "       [2, 3]])>"
      ]
     },
     "execution_count": 30,
     "metadata": {},
     "output_type": "execute_result"
    }
   ],
   "source": [
    "a = tf.reshape(tf.range(3), (3, 1))\n",
    "b = tf.reshape(tf.range(2), (1, 2))\n",
    "a+b"
   ]
  },
  {
   "cell_type": "code",
   "execution_count": 31,
   "metadata": {},
   "outputs": [
    {
     "data": {
      "text/plain": [
       "(<tf.Tensor: shape=(4,), dtype=float32, numpy=array([ 8.,  9., 10., 11.], dtype=float32)>,\n",
       " <tf.Tensor: shape=(2, 4), dtype=float32, numpy=\n",
       " array([[ 4.,  5.,  6.,  7.],\n",
       "        [ 8.,  9., 10., 11.]], dtype=float32)>)"
      ]
     },
     "execution_count": 31,
     "metadata": {},
     "output_type": "execute_result"
    }
   ],
   "source": [
    "x[-1], x[1:3]"
   ]
  },
  {
   "cell_type": "code",
   "execution_count": 33,
   "metadata": {},
   "outputs": [
    {
     "data": {
      "text/plain": [
       "<tf.Variable 'Variable:0' shape=(3, 4) dtype=float32, numpy=\n",
       "array([[ 0.,  1.,  2.,  3.],\n",
       "       [ 4.,  5.,  9.,  7.],\n",
       "       [ 8.,  9., 10., 11.]], dtype=float32)>"
      ]
     },
     "execution_count": 33,
     "metadata": {},
     "output_type": "execute_result"
    }
   ],
   "source": [
    "x_var = tf.Variable(x)\n",
    "x_var[1,2].assign(9)\n",
    "x_var"
   ]
  },
  {
   "cell_type": "code",
   "execution_count": 34,
   "metadata": {},
   "outputs": [
    {
     "data": {
      "text/plain": [
       "False"
      ]
     },
     "execution_count": 34,
     "metadata": {},
     "output_type": "execute_result"
    }
   ],
   "source": [
    "before = id(y)\n",
    "y = y+x\n",
    "id(y) == before"
   ]
  },
  {
   "cell_type": "code",
   "execution_count": 37,
   "metadata": {},
   "outputs": [
    {
     "name": "stdout",
     "output_type": "stream",
     "text": [
      "1675017582152\n",
      "1675017582152\n"
     ]
    }
   ],
   "source": [
    "z = tf.Variable(tf.zeros_like(y))\n",
    "print(id(z))\n",
    "z.assign(x + y)\n",
    "print(id(z))"
   ]
  },
  {
   "cell_type": "code",
   "execution_count": 38,
   "metadata": {},
   "outputs": [
    {
     "data": {
      "text/plain": [
       "(numpy.ndarray, tensorflow.python.framework.ops.EagerTensor)"
      ]
     },
     "execution_count": 38,
     "metadata": {},
     "output_type": "execute_result"
    }
   ],
   "source": [
    "a = x.numpy()\n",
    "b = tf.constant(a)\n",
    "type(a), type(b)"
   ]
  },
  {
   "cell_type": "code",
   "execution_count": null,
   "metadata": {},
   "outputs": [],
   "source": []
  },
  {
   "attachments": {},
   "cell_type": "markdown",
   "metadata": {},
   "source": [
    "## 2.2 数据预处理"
   ]
  },
  {
   "cell_type": "code",
   "execution_count": null,
   "metadata": {},
   "outputs": [],
   "source": []
  },
  {
   "attachments": {},
   "cell_type": "markdown",
   "metadata": {},
   "source": [
    "## 2.3 线性代数"
   ]
  },
  {
   "cell_type": "code",
   "execution_count": 39,
   "metadata": {},
   "outputs": [
    {
     "data": {
      "text/plain": [
       "<tf.Tensor: shape=(4,), dtype=int32, numpy=array([0, 1, 2, 3])>"
      ]
     },
     "execution_count": 39,
     "metadata": {},
     "output_type": "execute_result"
    }
   ],
   "source": [
    "x = tf.range(4)\n",
    "x"
   ]
  },
  {
   "cell_type": "code",
   "execution_count": 41,
   "metadata": {},
   "outputs": [
    {
     "name": "stdout",
     "output_type": "stream",
     "text": [
      "4\n"
     ]
    },
    {
     "data": {
      "text/plain": [
       "TensorShape([4])"
      ]
     },
     "execution_count": 41,
     "metadata": {},
     "output_type": "execute_result"
    }
   ],
   "source": [
    "print(len(x))\n",
    "x.shape"
   ]
  },
  {
   "cell_type": "code",
   "execution_count": 42,
   "metadata": {},
   "outputs": [
    {
     "data": {
      "text/plain": [
       "<tf.Tensor: shape=(5, 4), dtype=int32, numpy=\n",
       "array([[ 0,  1,  2,  3],\n",
       "       [ 4,  5,  6,  7],\n",
       "       [ 8,  9, 10, 11],\n",
       "       [12, 13, 14, 15],\n",
       "       [16, 17, 18, 19]])>"
      ]
     },
     "execution_count": 42,
     "metadata": {},
     "output_type": "execute_result"
    }
   ],
   "source": [
    "A = tf.reshape(tf.range(20), (5,4))\n",
    "A"
   ]
  },
  {
   "cell_type": "code",
   "execution_count": 44,
   "metadata": {},
   "outputs": [
    {
     "data": {
      "text/plain": [
       "<tf.Tensor: shape=(5,), dtype=int32, numpy=array([ 0,  4,  8, 12, 16])>"
      ]
     },
     "execution_count": 44,
     "metadata": {},
     "output_type": "execute_result"
    }
   ],
   "source": [
    "A[:,0]"
   ]
  },
  {
   "cell_type": "code",
   "execution_count": 45,
   "metadata": {},
   "outputs": [
    {
     "data": {
      "text/plain": [
       "<tf.Tensor: shape=(4,), dtype=int32, numpy=array([0, 1, 2, 3])>"
      ]
     },
     "execution_count": 45,
     "metadata": {},
     "output_type": "execute_result"
    }
   ],
   "source": [
    "A[0]"
   ]
  },
  {
   "cell_type": "code",
   "execution_count": 47,
   "metadata": {},
   "outputs": [
    {
     "data": {
      "text/plain": [
       "<tf.Tensor: shape=(4, 5), dtype=int32, numpy=\n",
       "array([[ 0,  4,  8, 12, 16],\n",
       "       [ 1,  5,  9, 13, 17],\n",
       "       [ 2,  6, 10, 14, 18],\n",
       "       [ 3,  7, 11, 15, 19]])>"
      ]
     },
     "execution_count": 47,
     "metadata": {},
     "output_type": "execute_result"
    }
   ],
   "source": [
    "tf.transpose(A)"
   ]
  },
  {
   "cell_type": "code",
   "execution_count": 48,
   "metadata": {},
   "outputs": [
    {
     "data": {
      "text/plain": [
       "(<tf.Tensor: shape=(5, 4), dtype=float32, numpy=\n",
       " array([[ 0.,  1.,  2.,  3.],\n",
       "        [ 4.,  5.,  6.,  7.],\n",
       "        [ 8.,  9., 10., 11.],\n",
       "        [12., 13., 14., 15.],\n",
       "        [16., 17., 18., 19.]], dtype=float32)>,\n",
       " <tf.Tensor: shape=(5, 4), dtype=float32, numpy=\n",
       " array([[ 0.,  2.,  4.,  6.],\n",
       "        [ 8., 10., 12., 14.],\n",
       "        [16., 18., 20., 22.],\n",
       "        [24., 26., 28., 30.],\n",
       "        [32., 34., 36., 38.]], dtype=float32)>)"
      ]
     },
     "execution_count": 48,
     "metadata": {},
     "output_type": "execute_result"
    }
   ],
   "source": [
    "A = tf.reshape(tf.range(20, dtype=tf.float32), (5,4))\n",
    "B = A\n",
    "A, A+B"
   ]
  },
  {
   "cell_type": "code",
   "execution_count": 50,
   "metadata": {},
   "outputs": [
    {
     "data": {
      "text/plain": [
       "True"
      ]
     },
     "execution_count": 50,
     "metadata": {},
     "output_type": "execute_result"
    }
   ],
   "source": [
    "id(A) == id(B)"
   ]
  },
  {
   "cell_type": "code",
   "execution_count": 51,
   "metadata": {},
   "outputs": [
    {
     "data": {
      "text/plain": [
       "<tf.Tensor: shape=(5, 4), dtype=float32, numpy=\n",
       "array([[  0.,   1.,   4.,   9.],\n",
       "       [ 16.,  25.,  36.,  49.],\n",
       "       [ 64.,  81., 100., 121.],\n",
       "       [144., 169., 196., 225.],\n",
       "       [256., 289., 324., 361.]], dtype=float32)>"
      ]
     },
     "execution_count": 51,
     "metadata": {},
     "output_type": "execute_result"
    }
   ],
   "source": [
    "A * B"
   ]
  },
  {
   "cell_type": "code",
   "execution_count": 52,
   "metadata": {},
   "outputs": [
    {
     "data": {
      "text/plain": [
       "<tf.Tensor: shape=(5, 4), dtype=float32, numpy=\n",
       "array([[ 2.,  3.,  4.,  5.],\n",
       "       [ 6.,  7.,  8.,  9.],\n",
       "       [10., 11., 12., 13.],\n",
       "       [14., 15., 16., 17.],\n",
       "       [18., 19., 20., 21.]], dtype=float32)>"
      ]
     },
     "execution_count": 52,
     "metadata": {},
     "output_type": "execute_result"
    }
   ],
   "source": [
    "a = 2\n",
    "A + a"
   ]
  },
  {
   "cell_type": "code",
   "execution_count": 53,
   "metadata": {},
   "outputs": [
    {
     "data": {
      "text/plain": [
       "(TensorShape([5, 4]), <tf.Tensor: shape=(), dtype=float32, numpy=190.0>)"
      ]
     },
     "execution_count": 53,
     "metadata": {},
     "output_type": "execute_result"
    }
   ],
   "source": [
    "A.shape, tf.reduce_sum(A)"
   ]
  },
  {
   "cell_type": "code",
   "execution_count": 55,
   "metadata": {},
   "outputs": [
    {
     "data": {
      "text/plain": [
       "(<tf.Tensor: shape=(4,), dtype=float32, numpy=array([40., 45., 50., 55.], dtype=float32)>,\n",
       " TensorShape([4]))"
      ]
     },
     "execution_count": 55,
     "metadata": {},
     "output_type": "execute_result"
    }
   ],
   "source": [
    "A_sum_axis0 = tf.reduce_sum(A, axis=0)\n",
    "A_sum_axis0, A_sum_axis0.shape"
   ]
  },
  {
   "cell_type": "code",
   "execution_count": 57,
   "metadata": {},
   "outputs": [
    {
     "data": {
      "text/plain": [
       "<tf.Tensor: shape=(5,), dtype=float32, numpy=array([ 6., 22., 38., 54., 70.], dtype=float32)>"
      ]
     },
     "execution_count": 57,
     "metadata": {},
     "output_type": "execute_result"
    }
   ],
   "source": [
    "tf.reduce_sum(A, axis=1)"
   ]
  },
  {
   "cell_type": "code",
   "execution_count": 58,
   "metadata": {},
   "outputs": [
    {
     "data": {
      "text/plain": [
       "<tf.Tensor: shape=(5, 4), dtype=float32, numpy=\n",
       "array([[ 0.,  1.,  2.,  3.],\n",
       "       [ 4.,  5.,  6.,  7.],\n",
       "       [ 8.,  9., 10., 11.],\n",
       "       [12., 13., 14., 15.],\n",
       "       [16., 17., 18., 19.]], dtype=float32)>"
      ]
     },
     "execution_count": 58,
     "metadata": {},
     "output_type": "execute_result"
    }
   ],
   "source": [
    "A"
   ]
  },
  {
   "cell_type": "code",
   "execution_count": 59,
   "metadata": {},
   "outputs": [
    {
     "data": {
      "text/plain": [
       "<tf.Tensor: shape=(5, 1), dtype=float32, numpy=\n",
       "array([[ 6.],\n",
       "       [22.],\n",
       "       [38.],\n",
       "       [54.],\n",
       "       [70.]], dtype=float32)>"
      ]
     },
     "execution_count": 59,
     "metadata": {},
     "output_type": "execute_result"
    }
   ],
   "source": [
    "sum_A = tf.reduce_sum(A, axis=1, keepdims=True)\n",
    "sum_A"
   ]
  },
  {
   "cell_type": "code",
   "execution_count": 60,
   "metadata": {},
   "outputs": [
    {
     "data": {
      "text/plain": [
       "<tf.Tensor: shape=(5, 4), dtype=float32, numpy=\n",
       "array([[0.        , 0.16666667, 0.33333334, 0.5       ],\n",
       "       [0.18181819, 0.22727273, 0.27272728, 0.3181818 ],\n",
       "       [0.21052632, 0.23684211, 0.2631579 , 0.28947368],\n",
       "       [0.22222222, 0.24074075, 0.25925925, 0.2777778 ],\n",
       "       [0.22857143, 0.24285714, 0.25714287, 0.27142859]], dtype=float32)>"
      ]
     },
     "execution_count": 60,
     "metadata": {},
     "output_type": "execute_result"
    }
   ],
   "source": [
    "A / sum_A"
   ]
  },
  {
   "cell_type": "code",
   "execution_count": 61,
   "metadata": {},
   "outputs": [
    {
     "data": {
      "text/plain": [
       "<tf.Tensor: shape=(5, 4), dtype=float32, numpy=\n",
       "array([[0.        , 0.02222222, 0.04      , 0.05454545],\n",
       "       [0.1       , 0.11111111, 0.12      , 0.12727273],\n",
       "       [0.2       , 0.2       , 0.2       , 0.2       ],\n",
       "       [0.3       , 0.2888889 , 0.28      , 0.27272728],\n",
       "       [0.4       , 0.37777779, 0.36      , 0.34545454]], dtype=float32)>"
      ]
     },
     "execution_count": 61,
     "metadata": {},
     "output_type": "execute_result"
    }
   ],
   "source": [
    "A / A_sum_axis0"
   ]
  },
  {
   "cell_type": "code",
   "execution_count": 62,
   "metadata": {},
   "outputs": [
    {
     "data": {
      "text/plain": [
       "<tf.Tensor: shape=(5, 4), dtype=float32, numpy=\n",
       "array([[ 0.,  1.,  2.,  3.],\n",
       "       [ 4.,  6.,  8., 10.],\n",
       "       [12., 15., 18., 21.],\n",
       "       [24., 28., 32., 36.],\n",
       "       [40., 45., 50., 55.]], dtype=float32)>"
      ]
     },
     "execution_count": 62,
     "metadata": {},
     "output_type": "execute_result"
    }
   ],
   "source": [
    "tf.cumsum(A, axis=0)"
   ]
  },
  {
   "cell_type": "code",
   "execution_count": 63,
   "metadata": {},
   "outputs": [
    {
     "data": {
      "text/plain": [
       "<tf.Tensor: shape=(5, 4), dtype=float32, numpy=\n",
       "array([[ 0.,  1.,  3.,  6.],\n",
       "       [ 4.,  9., 15., 22.],\n",
       "       [ 8., 17., 27., 38.],\n",
       "       [12., 25., 39., 54.],\n",
       "       [16., 33., 51., 70.]], dtype=float32)>"
      ]
     },
     "execution_count": 63,
     "metadata": {},
     "output_type": "execute_result"
    }
   ],
   "source": [
    "tf.cumsum(A, axis=1)"
   ]
  },
  {
   "cell_type": "code",
   "execution_count": 70,
   "metadata": {},
   "outputs": [
    {
     "data": {
      "text/plain": [
       "(<tf.Tensor: shape=(4,), dtype=int32, numpy=array([0, 1, 2, 3])>,\n",
       " <tf.Tensor: shape=(4,), dtype=int32, numpy=array([1, 1, 1, 1])>,\n",
       " <tf.Tensor: shape=(), dtype=int32, numpy=6>)"
      ]
     },
     "execution_count": 70,
     "metadata": {},
     "output_type": "execute_result"
    }
   ],
   "source": [
    "y = tf.ones(4, dtype=tf.int32)\n",
    "x, y, tf.tensordot(x, y, axes=1)"
   ]
  },
  {
   "cell_type": "code",
   "execution_count": 68,
   "metadata": {},
   "outputs": [
    {
     "data": {
      "text/plain": [
       "<tf.Tensor: shape=(4,), dtype=int32, numpy=array([0, 1, 2, 3])>"
      ]
     },
     "execution_count": 68,
     "metadata": {},
     "output_type": "execute_result"
    }
   ],
   "source": [
    "x"
   ]
  },
  {
   "cell_type": "code",
   "execution_count": 71,
   "metadata": {},
   "outputs": [
    {
     "data": {
      "text/plain": [
       "<tf.Tensor: shape=(4,), dtype=int32, numpy=array([0, 1, 2, 3])>"
      ]
     },
     "execution_count": 71,
     "metadata": {},
     "output_type": "execute_result"
    }
   ],
   "source": [
    "x*y"
   ]
  },
  {
   "cell_type": "code",
   "execution_count": 82,
   "metadata": {},
   "outputs": [
    {
     "data": {
      "text/plain": [
       "(TensorShape([5, 4]),\n",
       " TensorShape([4]),\n",
       " <tf.Tensor: shape=(5,), dtype=float32, numpy=array([ 14.,  38.,  62.,  86., 110.], dtype=float32)>)"
      ]
     },
     "execution_count": 82,
     "metadata": {},
     "output_type": "execute_result"
    }
   ],
   "source": [
    "x = tf.range(4, dtype=tf.float32)\n",
    "A.shape, x.shape, tf.linalg.matvec(A, x)"
   ]
  },
  {
   "cell_type": "code",
   "execution_count": 84,
   "metadata": {},
   "outputs": [
    {
     "data": {
      "text/plain": [
       "(<tf.Tensor: shape=(4,), dtype=float32, numpy=array([0., 1., 2., 3.], dtype=float32)>,\n",
       " <tf.Tensor: shape=(5, 4), dtype=float32, numpy=\n",
       " array([[ 0.,  1.,  2.,  3.],\n",
       "        [ 4.,  5.,  6.,  7.],\n",
       "        [ 8.,  9., 10., 11.],\n",
       "        [12., 13., 14., 15.],\n",
       "        [16., 17., 18., 19.]], dtype=float32)>)"
      ]
     },
     "execution_count": 84,
     "metadata": {},
     "output_type": "execute_result"
    }
   ],
   "source": [
    "x, A"
   ]
  },
  {
   "cell_type": "code",
   "execution_count": 85,
   "metadata": {},
   "outputs": [
    {
     "data": {
      "text/plain": [
       "<tf.Tensor: shape=(5, 3), dtype=float32, numpy=\n",
       "array([[ 6.,  6.,  6.],\n",
       "       [22., 22., 22.],\n",
       "       [38., 38., 38.],\n",
       "       [54., 54., 54.],\n",
       "       [70., 70., 70.]], dtype=float32)>"
      ]
     },
     "execution_count": 85,
     "metadata": {},
     "output_type": "execute_result"
    }
   ],
   "source": [
    "B = tf.ones((4,3), tf.float32)\n",
    "tf.matmul(A, B)"
   ]
  },
  {
   "cell_type": "code",
   "execution_count": 87,
   "metadata": {},
   "outputs": [
    {
     "data": {
      "text/plain": [
       "<tf.Tensor: shape=(), dtype=float32, numpy=5.0>"
      ]
     },
     "execution_count": 87,
     "metadata": {},
     "output_type": "execute_result"
    }
   ],
   "source": [
    "u = tf.constant([3.0,-4])\n",
    "tf.norm(u)"
   ]
  },
  {
   "cell_type": "code",
   "execution_count": 88,
   "metadata": {},
   "outputs": [
    {
     "data": {
      "text/plain": [
       "<tf.Tensor: shape=(), dtype=float32, numpy=7.0>"
      ]
     },
     "execution_count": 88,
     "metadata": {},
     "output_type": "execute_result"
    }
   ],
   "source": [
    "tf.reduce_sum(tf.abs(u))"
   ]
  },
  {
   "attachments": {},
   "cell_type": "markdown",
   "metadata": {},
   "source": [
    "## 2.4 微积分"
   ]
  },
  {
   "cell_type": "code",
   "execution_count": 2,
   "metadata": {},
   "outputs": [],
   "source": [
    "import numpy as np\n",
    "from matplotlib_inline import backend_inline\n",
    "from d2l import tensorflow as d2l\n",
    "def f(x):\n",
    "    return 3 * x ** 2 - 4 * x"
   ]
  },
  {
   "cell_type": "code",
   "execution_count": 4,
   "metadata": {},
   "outputs": [
    {
     "name": "stdout",
     "output_type": "stream",
     "text": [
      "h=0.10000,numerical limit=2.30000\n",
      "h=0.01000,numerical limit=2.03000\n",
      "h=0.00100,numerical limit=2.00300\n",
      "h=0.00010,numerical limit=2.00030\n",
      "h=0.00001,numerical limit=2.00003\n"
     ]
    }
   ],
   "source": [
    "def numerical_lim(f, x, h):\n",
    "    return (f(x+h)-f(x)) / h\n",
    "h = 0.1\n",
    "for i in range(5):\n",
    "    print(f'h={h:.5f},numerical limit={numerical_lim(f, 1, h):.5f}')\n",
    "    h *= 0.1"
   ]
  },
  {
   "cell_type": "code",
   "execution_count": 14,
   "metadata": {},
   "outputs": [],
   "source": [
    "def use_svg_display():\n",
    "    '''use svg show plt'''\n",
    "    backend_inline.set_matplotlib_formats('svg')\n"
   ]
  },
  {
   "cell_type": "code",
   "execution_count": 21,
   "metadata": {},
   "outputs": [],
   "source": [
    "def set_figsize(figsize=(3.5, 2.5)):\n",
    "    '''设置 matplotlb 的图标大小'''\n",
    "    use_svg_display()\n",
    "    d2l.plt.rcParams['figure.figsize'] = figsize"
   ]
  },
  {
   "cell_type": "code",
   "execution_count": 22,
   "metadata": {},
   "outputs": [],
   "source": [
    "def set_axes(axes, xlabel, ylabel, xlim, ylim, xscale, yscale, legend):\n",
    "    '''设置matplotlib的轴'''\n",
    "    axes.set_xlabel(xlabel)\n",
    "    axes.set_ylabel(ylabel)\n",
    "    axes.set_xscale(xscale)\n",
    "    axes.set_yscale(yscale)\n",
    "    axes.set_xlim(xlim)\n",
    "    axes.set_ylim(ylim)\n",
    "    if legend:\n",
    "        axes.legend(legend)\n",
    "    axes.grid()"
   ]
  },
  {
   "cell_type": "code",
   "execution_count": 23,
   "metadata": {},
   "outputs": [],
   "source": [
    "def plot(X, Y=None, xlabel=None, ylabel=None, legend=None, xlim=None, ylim=None, xscale='linear', yscale='linear',\n",
    "         fmts=('-', 'm--', 'g-', 'r:'), figsize=(3.5, 2.5), axes=None):\n",
    "    '''绘制数据点'''\n",
    "    if legend is None:\n",
    "        legend = []\n",
    "    set_figsize(figsize=figsize)\n",
    "    axes = axes if axes else d2l.plt.gca()\n",
    "\n",
    "    '''如果x有一个轴，输出True'''\n",
    "    def has_one_axis(X):\n",
    "        return (hasattr(X, 'ndim') and X.ndim == 1 or isinstance(X, list) \n",
    "                and not hasattr(X[0], '__len__'))\n",
    "    \n",
    "    if has_one_axis(X):\n",
    "        X = [X]\n",
    "    if Y is None:\n",
    "        X, Y = [[]] * len(X), Y\n",
    "    elif has_one_axis(Y):\n",
    "        Y = [Y]\n",
    "    if len(X) != len(Y):\n",
    "        X = X * len(Y)\n",
    "    axes.cla()\n",
    "    for x, y, fmt in zip(X, Y, fmts):\n",
    "        if len(x):\n",
    "            axes.plot(x, y, fmt)\n",
    "        else:\n",
    "            axes.plot(y, fmt)\n",
    "    set_axes(axes=axes, xlabel=xlabel, ylabel=ylabel, xlim=xlim, ylim=ylim, xscale=xscale, yscale=yscale, legend=legend)"
   ]
  },
  {
   "cell_type": "code",
   "execution_count": 24,
   "metadata": {},
   "outputs": [
    {
     "data": {
      "image/svg+xml": "<?xml version=\"1.0\" encoding=\"utf-8\" standalone=\"no\"?>\n<!DOCTYPE svg PUBLIC \"-//W3C//DTD SVG 1.1//EN\"\n  \"http://www.w3.org/Graphics/SVG/1.1/DTD/svg11.dtd\">\n<svg xmlns:xlink=\"http://www.w3.org/1999/xlink\" width=\"243.529359pt\" height=\"183.35625pt\" viewBox=\"0 0 243.529359 183.35625\" xmlns=\"http://www.w3.org/2000/svg\" version=\"1.1\">\n <metadata>\n  <rdf:RDF xmlns:dc=\"http://purl.org/dc/elements/1.1/\" xmlns:cc=\"http://creativecommons.org/ns#\" xmlns:rdf=\"http://www.w3.org/1999/02/22-rdf-syntax-ns#\">\n   <cc:Work>\n    <dc:type rdf:resource=\"http://purl.org/dc/dcmitype/StillImage\"/>\n    <dc:date>2023-03-13T07:57:35.778520</dc:date>\n    <dc:format>image/svg+xml</dc:format>\n    <dc:creator>\n     <cc:Agent>\n      <dc:title>Matplotlib v3.5.1, https://matplotlib.org/</dc:title>\n     </cc:Agent>\n    </dc:creator>\n   </cc:Work>\n  </rdf:RDF>\n </metadata>\n <defs>\n  <style type=\"text/css\">*{stroke-linejoin: round; stroke-linecap: butt}</style>\n </defs>\n <g id=\"figure_1\">\n  <g id=\"patch_1\">\n   <path d=\"M 0 183.35625 \nL 243.529359 183.35625 \nL 243.529359 0 \nL 0 0 \nz\n\" style=\"fill: #ffffff\"/>\n  </g>\n  <g id=\"axes_1\">\n   <g id=\"patch_2\">\n    <path d=\"M 40.603125 145.8 \nL 235.903125 145.8 \nL 235.903125 7.2 \nL 40.603125 7.2 \nz\n\" style=\"fill: #ffffff\"/>\n   </g>\n   <g id=\"matplotlib.axis_1\">\n    <g id=\"xtick_1\">\n     <g id=\"line2d_1\">\n      <path d=\"M 49.480398 145.8 \nL 49.480398 7.2 \n\" clip-path=\"url(#pf507af3297)\" style=\"fill: none; stroke: #b0b0b0; stroke-width: 0.8; stroke-linecap: square\"/>\n     </g>\n     <g id=\"line2d_2\">\n      <defs>\n       <path id=\"mcadd2f052e\" d=\"M 0 0 \nL 0 3.5 \n\" style=\"stroke: #000000; stroke-width: 0.8\"/>\n      </defs>\n      <g>\n       <use xlink:href=\"#mcadd2f052e\" x=\"49.480398\" y=\"145.8\" style=\"stroke: #000000; stroke-width: 0.8\"/>\n      </g>\n     </g>\n     <g id=\"text_1\">\n      <!-- 0 -->\n      <g transform=\"translate(46.299148 160.398438)scale(0.1 -0.1)\">\n       <defs>\n        <path id=\"DejaVuSans-30\" d=\"M 2034 4250 \nQ 1547 4250 1301 3770 \nQ 1056 3291 1056 2328 \nQ 1056 1369 1301 889 \nQ 1547 409 2034 409 \nQ 2525 409 2770 889 \nQ 3016 1369 3016 2328 \nQ 3016 3291 2770 3770 \nQ 2525 4250 2034 4250 \nz\nM 2034 4750 \nQ 2819 4750 3233 4129 \nQ 3647 3509 3647 2328 \nQ 3647 1150 3233 529 \nQ 2819 -91 2034 -91 \nQ 1250 -91 836 529 \nQ 422 1150 422 2328 \nQ 422 3509 836 4129 \nQ 1250 4750 2034 4750 \nz\n\" transform=\"scale(0.015625)\"/>\n       </defs>\n       <use xlink:href=\"#DejaVuSans-30\"/>\n      </g>\n     </g>\n    </g>\n    <g id=\"xtick_2\">\n     <g id=\"line2d_3\">\n      <path d=\"M 110.702968 145.8 \nL 110.702968 7.2 \n\" clip-path=\"url(#pf507af3297)\" style=\"fill: none; stroke: #b0b0b0; stroke-width: 0.8; stroke-linecap: square\"/>\n     </g>\n     <g id=\"line2d_4\">\n      <g>\n       <use xlink:href=\"#mcadd2f052e\" x=\"110.702968\" y=\"145.8\" style=\"stroke: #000000; stroke-width: 0.8\"/>\n      </g>\n     </g>\n     <g id=\"text_2\">\n      <!-- 1 -->\n      <g transform=\"translate(107.521718 160.398438)scale(0.1 -0.1)\">\n       <defs>\n        <path id=\"DejaVuSans-31\" d=\"M 794 531 \nL 1825 531 \nL 1825 4091 \nL 703 3866 \nL 703 4441 \nL 1819 4666 \nL 2450 4666 \nL 2450 531 \nL 3481 531 \nL 3481 0 \nL 794 0 \nL 794 531 \nz\n\" transform=\"scale(0.015625)\"/>\n       </defs>\n       <use xlink:href=\"#DejaVuSans-31\"/>\n      </g>\n     </g>\n    </g>\n    <g id=\"xtick_3\">\n     <g id=\"line2d_5\">\n      <path d=\"M 171.925539 145.8 \nL 171.925539 7.2 \n\" clip-path=\"url(#pf507af3297)\" style=\"fill: none; stroke: #b0b0b0; stroke-width: 0.8; stroke-linecap: square\"/>\n     </g>\n     <g id=\"line2d_6\">\n      <g>\n       <use xlink:href=\"#mcadd2f052e\" x=\"171.925539\" y=\"145.8\" style=\"stroke: #000000; stroke-width: 0.8\"/>\n      </g>\n     </g>\n     <g id=\"text_3\">\n      <!-- 2 -->\n      <g transform=\"translate(168.744289 160.398438)scale(0.1 -0.1)\">\n       <defs>\n        <path id=\"DejaVuSans-32\" d=\"M 1228 531 \nL 3431 531 \nL 3431 0 \nL 469 0 \nL 469 531 \nQ 828 903 1448 1529 \nQ 2069 2156 2228 2338 \nQ 2531 2678 2651 2914 \nQ 2772 3150 2772 3378 \nQ 2772 3750 2511 3984 \nQ 2250 4219 1831 4219 \nQ 1534 4219 1204 4116 \nQ 875 4013 500 3803 \nL 500 4441 \nQ 881 4594 1212 4672 \nQ 1544 4750 1819 4750 \nQ 2544 4750 2975 4387 \nQ 3406 4025 3406 3419 \nQ 3406 3131 3298 2873 \nQ 3191 2616 2906 2266 \nQ 2828 2175 2409 1742 \nQ 1991 1309 1228 531 \nz\n\" transform=\"scale(0.015625)\"/>\n       </defs>\n       <use xlink:href=\"#DejaVuSans-32\"/>\n      </g>\n     </g>\n    </g>\n    <g id=\"xtick_4\">\n     <g id=\"line2d_7\">\n      <path d=\"M 233.148109 145.8 \nL 233.148109 7.2 \n\" clip-path=\"url(#pf507af3297)\" style=\"fill: none; stroke: #b0b0b0; stroke-width: 0.8; stroke-linecap: square\"/>\n     </g>\n     <g id=\"line2d_8\">\n      <g>\n       <use xlink:href=\"#mcadd2f052e\" x=\"233.148109\" y=\"145.8\" style=\"stroke: #000000; stroke-width: 0.8\"/>\n      </g>\n     </g>\n     <g id=\"text_4\">\n      <!-- 3 -->\n      <g transform=\"translate(229.966859 160.398438)scale(0.1 -0.1)\">\n       <defs>\n        <path id=\"DejaVuSans-33\" d=\"M 2597 2516 \nQ 3050 2419 3304 2112 \nQ 3559 1806 3559 1356 \nQ 3559 666 3084 287 \nQ 2609 -91 1734 -91 \nQ 1441 -91 1130 -33 \nQ 819 25 488 141 \nL 488 750 \nQ 750 597 1062 519 \nQ 1375 441 1716 441 \nQ 2309 441 2620 675 \nQ 2931 909 2931 1356 \nQ 2931 1769 2642 2001 \nQ 2353 2234 1838 2234 \nL 1294 2234 \nL 1294 2753 \nL 1863 2753 \nQ 2328 2753 2575 2939 \nQ 2822 3125 2822 3475 \nQ 2822 3834 2567 4026 \nQ 2313 4219 1838 4219 \nQ 1578 4219 1281 4162 \nQ 984 4106 628 3988 \nL 628 4550 \nQ 988 4650 1302 4700 \nQ 1616 4750 1894 4750 \nQ 2613 4750 3031 4423 \nQ 3450 4097 3450 3541 \nQ 3450 3153 3228 2886 \nQ 3006 2619 2597 2516 \nz\n\" transform=\"scale(0.015625)\"/>\n       </defs>\n       <use xlink:href=\"#DejaVuSans-33\"/>\n      </g>\n     </g>\n    </g>\n    <g id=\"text_5\">\n     <!-- x -->\n     <g transform=\"translate(135.29375 174.076563)scale(0.1 -0.1)\">\n      <defs>\n       <path id=\"DejaVuSans-78\" d=\"M 3513 3500 \nL 2247 1797 \nL 3578 0 \nL 2900 0 \nL 1881 1375 \nL 863 0 \nL 184 0 \nL 1544 1831 \nL 300 3500 \nL 978 3500 \nL 1906 2253 \nL 2834 3500 \nL 3513 3500 \nz\n\" transform=\"scale(0.015625)\"/>\n      </defs>\n      <use xlink:href=\"#DejaVuSans-78\"/>\n     </g>\n    </g>\n   </g>\n   <g id=\"matplotlib.axis_2\">\n    <g id=\"ytick_1\">\n     <g id=\"line2d_9\">\n      <path d=\"M 40.603125 116.769994 \nL 235.903125 116.769994 \n\" clip-path=\"url(#pf507af3297)\" style=\"fill: none; stroke: #b0b0b0; stroke-width: 0.8; stroke-linecap: square\"/>\n     </g>\n     <g id=\"line2d_10\">\n      <defs>\n       <path id=\"m822cbf989c\" d=\"M 0 0 \nL -3.5 0 \n\" style=\"stroke: #000000; stroke-width: 0.8\"/>\n      </defs>\n      <g>\n       <use xlink:href=\"#m822cbf989c\" x=\"40.603125\" y=\"116.769994\" style=\"stroke: #000000; stroke-width: 0.8\"/>\n      </g>\n     </g>\n     <g id=\"text_6\">\n      <!-- 0 -->\n      <g transform=\"translate(27.240625 120.569213)scale(0.1 -0.1)\">\n       <use xlink:href=\"#DejaVuSans-30\"/>\n      </g>\n     </g>\n    </g>\n    <g id=\"ytick_2\">\n     <g id=\"line2d_11\">\n      <path d=\"M 40.603125 78.886651 \nL 235.903125 78.886651 \n\" clip-path=\"url(#pf507af3297)\" style=\"fill: none; stroke: #b0b0b0; stroke-width: 0.8; stroke-linecap: square\"/>\n     </g>\n     <g id=\"line2d_12\">\n      <g>\n       <use xlink:href=\"#m822cbf989c\" x=\"40.603125\" y=\"78.886651\" style=\"stroke: #000000; stroke-width: 0.8\"/>\n      </g>\n     </g>\n     <g id=\"text_7\">\n      <!-- 5 -->\n      <g transform=\"translate(27.240625 82.685869)scale(0.1 -0.1)\">\n       <defs>\n        <path id=\"DejaVuSans-35\" d=\"M 691 4666 \nL 3169 4666 \nL 3169 4134 \nL 1269 4134 \nL 1269 2991 \nQ 1406 3038 1543 3061 \nQ 1681 3084 1819 3084 \nQ 2600 3084 3056 2656 \nQ 3513 2228 3513 1497 \nQ 3513 744 3044 326 \nQ 2575 -91 1722 -91 \nQ 1428 -91 1123 -41 \nQ 819 9 494 109 \nL 494 744 \nQ 775 591 1075 516 \nQ 1375 441 1709 441 \nQ 2250 441 2565 725 \nQ 2881 1009 2881 1497 \nQ 2881 1984 2565 2268 \nQ 2250 2553 1709 2553 \nQ 1456 2553 1204 2497 \nQ 953 2441 691 2322 \nL 691 4666 \nz\n\" transform=\"scale(0.015625)\"/>\n       </defs>\n       <use xlink:href=\"#DejaVuSans-35\"/>\n      </g>\n     </g>\n    </g>\n    <g id=\"ytick_3\">\n     <g id=\"line2d_13\">\n      <path d=\"M 40.603125 41.003307 \nL 235.903125 41.003307 \n\" clip-path=\"url(#pf507af3297)\" style=\"fill: none; stroke: #b0b0b0; stroke-width: 0.8; stroke-linecap: square\"/>\n     </g>\n     <g id=\"line2d_14\">\n      <g>\n       <use xlink:href=\"#m822cbf989c\" x=\"40.603125\" y=\"41.003307\" style=\"stroke: #000000; stroke-width: 0.8\"/>\n      </g>\n     </g>\n     <g id=\"text_8\">\n      <!-- 10 -->\n      <g transform=\"translate(20.878125 44.802526)scale(0.1 -0.1)\">\n       <use xlink:href=\"#DejaVuSans-31\"/>\n       <use xlink:href=\"#DejaVuSans-30\" x=\"63.623047\"/>\n      </g>\n     </g>\n    </g>\n    <g id=\"text_9\">\n     <!-- f(x) -->\n     <g transform=\"translate(14.798437 85.121094)rotate(-90)scale(0.1 -0.1)\">\n      <defs>\n       <path id=\"DejaVuSans-66\" d=\"M 2375 4863 \nL 2375 4384 \nL 1825 4384 \nQ 1516 4384 1395 4259 \nQ 1275 4134 1275 3809 \nL 1275 3500 \nL 2222 3500 \nL 2222 3053 \nL 1275 3053 \nL 1275 0 \nL 697 0 \nL 697 3053 \nL 147 3053 \nL 147 3500 \nL 697 3500 \nL 697 3744 \nQ 697 4328 969 4595 \nQ 1241 4863 1831 4863 \nL 2375 4863 \nz\n\" transform=\"scale(0.015625)\"/>\n       <path id=\"DejaVuSans-28\" d=\"M 1984 4856 \nQ 1566 4138 1362 3434 \nQ 1159 2731 1159 2009 \nQ 1159 1288 1364 580 \nQ 1569 -128 1984 -844 \nL 1484 -844 \nQ 1016 -109 783 600 \nQ 550 1309 550 2009 \nQ 550 2706 781 3412 \nQ 1013 4119 1484 4856 \nL 1984 4856 \nz\n\" transform=\"scale(0.015625)\"/>\n       <path id=\"DejaVuSans-29\" d=\"M 513 4856 \nL 1013 4856 \nQ 1481 4119 1714 3412 \nQ 1947 2706 1947 2009 \nQ 1947 1309 1714 600 \nQ 1481 -109 1013 -844 \nL 513 -844 \nQ 928 -128 1133 580 \nQ 1338 1288 1338 2009 \nQ 1338 2731 1133 3434 \nQ 928 4138 513 4856 \nz\n\" transform=\"scale(0.015625)\"/>\n      </defs>\n      <use xlink:href=\"#DejaVuSans-66\"/>\n      <use xlink:href=\"#DejaVuSans-28\" x=\"35.205078\"/>\n      <use xlink:href=\"#DejaVuSans-78\" x=\"74.21875\"/>\n      <use xlink:href=\"#DejaVuSans-29\" x=\"133.398438\"/>\n     </g>\n    </g>\n   </g>\n   <g id=\"line2d_15\">\n    <path d=\"M 49.480398 116.769994 \nL 55.602655 119.573361 \nL 61.724912 121.922129 \nL 67.847169 123.816296 \nL 73.969426 125.255863 \nL 80.091683 126.24083 \nL 86.21394 126.771197 \nL 92.336197 126.846963 \nL 98.458454 126.46813 \nL 104.580711 125.634696 \nL 110.702968 124.346663 \nL 116.825225 122.604029 \nL 122.947482 120.406795 \nL 129.069739 117.754961 \nL 135.191996 114.648527 \nL 141.314254 111.087492 \nL 147.436511 107.071858 \nL 153.558768 102.601624 \nL 159.681025 97.676789 \nL 165.803282 92.297354 \nL 171.925539 86.463319 \nL 178.047796 80.174684 \nL 184.170053 73.431449 \nL 190.29231 66.233614 \nL 196.414567 58.581179 \nL 202.536824 50.474143 \nL 208.659081 41.912508 \nL 214.781338 32.896272 \nL 220.903595 23.425436 \nL 227.025852 13.5 \n\" clip-path=\"url(#pf507af3297)\" style=\"fill: none; stroke: #1f77b4; stroke-width: 1.5; stroke-linecap: square\"/>\n   </g>\n   <g id=\"line2d_16\">\n    <path d=\"M 49.480398 139.5 \nL 55.602655 137.984666 \nL 61.724912 136.469333 \nL 67.847169 134.953999 \nL 73.969426 133.438665 \nL 80.091683 131.923331 \nL 86.21394 130.407998 \nL 92.336197 128.892664 \nL 98.458454 127.37733 \nL 104.580711 125.861996 \nL 110.702968 124.346663 \nL 116.825225 122.831329 \nL 122.947482 121.315995 \nL 129.069739 119.800661 \nL 135.191996 118.285328 \nL 141.314254 116.769994 \nL 147.436511 115.25466 \nL 153.558768 113.739327 \nL 159.681025 112.223993 \nL 165.803282 110.708659 \nL 171.925539 109.193325 \nL 178.047796 107.677992 \nL 184.170053 106.162658 \nL 190.29231 104.647324 \nL 196.414567 103.13199 \nL 202.536824 101.616657 \nL 208.659081 100.101323 \nL 214.781338 98.585989 \nL 220.903595 97.070655 \nL 227.025852 95.555322 \n\" clip-path=\"url(#pf507af3297)\" style=\"fill: none; stroke-dasharray: 5.55,2.4; stroke-dashoffset: 0; stroke: #bf00bf; stroke-width: 1.5\"/>\n   </g>\n   <g id=\"patch_3\">\n    <path d=\"M 40.603125 145.8 \nL 40.603125 7.2 \n\" style=\"fill: none; stroke: #000000; stroke-width: 0.8; stroke-linejoin: miter; stroke-linecap: square\"/>\n   </g>\n   <g id=\"patch_4\">\n    <path d=\"M 235.903125 145.8 \nL 235.903125 7.2 \n\" style=\"fill: none; stroke: #000000; stroke-width: 0.8; stroke-linejoin: miter; stroke-linecap: square\"/>\n   </g>\n   <g id=\"patch_5\">\n    <path d=\"M 40.603125 145.8 \nL 235.903125 145.8 \n\" style=\"fill: none; stroke: #000000; stroke-width: 0.8; stroke-linejoin: miter; stroke-linecap: square\"/>\n   </g>\n   <g id=\"patch_6\">\n    <path d=\"M 40.603125 7.2 \nL 235.903125 7.2 \n\" style=\"fill: none; stroke: #000000; stroke-width: 0.8; stroke-linejoin: miter; stroke-linecap: square\"/>\n   </g>\n   <g id=\"legend_1\">\n    <g id=\"patch_7\">\n     <path d=\"M 47.603125 44.55625 \nL 172.153125 44.55625 \nQ 174.153125 44.55625 174.153125 42.55625 \nL 174.153125 14.2 \nQ 174.153125 12.2 172.153125 12.2 \nL 47.603125 12.2 \nQ 45.603125 12.2 45.603125 14.2 \nL 45.603125 42.55625 \nQ 45.603125 44.55625 47.603125 44.55625 \nz\n\" style=\"fill: #ffffff; opacity: 0.8; stroke: #cccccc; stroke-linejoin: miter\"/>\n    </g>\n    <g id=\"line2d_17\">\n     <path d=\"M 49.603125 20.298438 \nL 59.603125 20.298438 \nL 69.603125 20.298438 \n\" style=\"fill: none; stroke: #1f77b4; stroke-width: 1.5; stroke-linecap: square\"/>\n    </g>\n    <g id=\"text_10\">\n     <!-- f(x) -->\n     <g transform=\"translate(77.603125 23.798438)scale(0.1 -0.1)\">\n      <use xlink:href=\"#DejaVuSans-66\"/>\n      <use xlink:href=\"#DejaVuSans-28\" x=\"35.205078\"/>\n      <use xlink:href=\"#DejaVuSans-78\" x=\"74.21875\"/>\n      <use xlink:href=\"#DejaVuSans-29\" x=\"133.398438\"/>\n     </g>\n    </g>\n    <g id=\"line2d_18\">\n     <path d=\"M 49.603125 34.976562 \nL 59.603125 34.976562 \nL 69.603125 34.976562 \n\" style=\"fill: none; stroke-dasharray: 5.55,2.4; stroke-dashoffset: 0; stroke: #bf00bf; stroke-width: 1.5\"/>\n    </g>\n    <g id=\"text_11\">\n     <!-- Tangent line (x=1) -->\n     <g transform=\"translate(77.603125 38.476562)scale(0.1 -0.1)\">\n      <defs>\n       <path id=\"DejaVuSans-54\" d=\"M -19 4666 \nL 3928 4666 \nL 3928 4134 \nL 2272 4134 \nL 2272 0 \nL 1638 0 \nL 1638 4134 \nL -19 4134 \nL -19 4666 \nz\n\" transform=\"scale(0.015625)\"/>\n       <path id=\"DejaVuSans-61\" d=\"M 2194 1759 \nQ 1497 1759 1228 1600 \nQ 959 1441 959 1056 \nQ 959 750 1161 570 \nQ 1363 391 1709 391 \nQ 2188 391 2477 730 \nQ 2766 1069 2766 1631 \nL 2766 1759 \nL 2194 1759 \nz\nM 3341 1997 \nL 3341 0 \nL 2766 0 \nL 2766 531 \nQ 2569 213 2275 61 \nQ 1981 -91 1556 -91 \nQ 1019 -91 701 211 \nQ 384 513 384 1019 \nQ 384 1609 779 1909 \nQ 1175 2209 1959 2209 \nL 2766 2209 \nL 2766 2266 \nQ 2766 2663 2505 2880 \nQ 2244 3097 1772 3097 \nQ 1472 3097 1187 3025 \nQ 903 2953 641 2809 \nL 641 3341 \nQ 956 3463 1253 3523 \nQ 1550 3584 1831 3584 \nQ 2591 3584 2966 3190 \nQ 3341 2797 3341 1997 \nz\n\" transform=\"scale(0.015625)\"/>\n       <path id=\"DejaVuSans-6e\" d=\"M 3513 2113 \nL 3513 0 \nL 2938 0 \nL 2938 2094 \nQ 2938 2591 2744 2837 \nQ 2550 3084 2163 3084 \nQ 1697 3084 1428 2787 \nQ 1159 2491 1159 1978 \nL 1159 0 \nL 581 0 \nL 581 3500 \nL 1159 3500 \nL 1159 2956 \nQ 1366 3272 1645 3428 \nQ 1925 3584 2291 3584 \nQ 2894 3584 3203 3211 \nQ 3513 2838 3513 2113 \nz\n\" transform=\"scale(0.015625)\"/>\n       <path id=\"DejaVuSans-67\" d=\"M 2906 1791 \nQ 2906 2416 2648 2759 \nQ 2391 3103 1925 3103 \nQ 1463 3103 1205 2759 \nQ 947 2416 947 1791 \nQ 947 1169 1205 825 \nQ 1463 481 1925 481 \nQ 2391 481 2648 825 \nQ 2906 1169 2906 1791 \nz\nM 3481 434 \nQ 3481 -459 3084 -895 \nQ 2688 -1331 1869 -1331 \nQ 1566 -1331 1297 -1286 \nQ 1028 -1241 775 -1147 \nL 775 -588 \nQ 1028 -725 1275 -790 \nQ 1522 -856 1778 -856 \nQ 2344 -856 2625 -561 \nQ 2906 -266 2906 331 \nL 2906 616 \nQ 2728 306 2450 153 \nQ 2172 0 1784 0 \nQ 1141 0 747 490 \nQ 353 981 353 1791 \nQ 353 2603 747 3093 \nQ 1141 3584 1784 3584 \nQ 2172 3584 2450 3431 \nQ 2728 3278 2906 2969 \nL 2906 3500 \nL 3481 3500 \nL 3481 434 \nz\n\" transform=\"scale(0.015625)\"/>\n       <path id=\"DejaVuSans-65\" d=\"M 3597 1894 \nL 3597 1613 \nL 953 1613 \nQ 991 1019 1311 708 \nQ 1631 397 2203 397 \nQ 2534 397 2845 478 \nQ 3156 559 3463 722 \nL 3463 178 \nQ 3153 47 2828 -22 \nQ 2503 -91 2169 -91 \nQ 1331 -91 842 396 \nQ 353 884 353 1716 \nQ 353 2575 817 3079 \nQ 1281 3584 2069 3584 \nQ 2775 3584 3186 3129 \nQ 3597 2675 3597 1894 \nz\nM 3022 2063 \nQ 3016 2534 2758 2815 \nQ 2500 3097 2075 3097 \nQ 1594 3097 1305 2825 \nQ 1016 2553 972 2059 \nL 3022 2063 \nz\n\" transform=\"scale(0.015625)\"/>\n       <path id=\"DejaVuSans-74\" d=\"M 1172 4494 \nL 1172 3500 \nL 2356 3500 \nL 2356 3053 \nL 1172 3053 \nL 1172 1153 \nQ 1172 725 1289 603 \nQ 1406 481 1766 481 \nL 2356 481 \nL 2356 0 \nL 1766 0 \nQ 1100 0 847 248 \nQ 594 497 594 1153 \nL 594 3053 \nL 172 3053 \nL 172 3500 \nL 594 3500 \nL 594 4494 \nL 1172 4494 \nz\n\" transform=\"scale(0.015625)\"/>\n       <path id=\"DejaVuSans-20\" transform=\"scale(0.015625)\"/>\n       <path id=\"DejaVuSans-6c\" d=\"M 603 4863 \nL 1178 4863 \nL 1178 0 \nL 603 0 \nL 603 4863 \nz\n\" transform=\"scale(0.015625)\"/>\n       <path id=\"DejaVuSans-69\" d=\"M 603 3500 \nL 1178 3500 \nL 1178 0 \nL 603 0 \nL 603 3500 \nz\nM 603 4863 \nL 1178 4863 \nL 1178 4134 \nL 603 4134 \nL 603 4863 \nz\n\" transform=\"scale(0.015625)\"/>\n       <path id=\"DejaVuSans-3d\" d=\"M 678 2906 \nL 4684 2906 \nL 4684 2381 \nL 678 2381 \nL 678 2906 \nz\nM 678 1631 \nL 4684 1631 \nL 4684 1100 \nL 678 1100 \nL 678 1631 \nz\n\" transform=\"scale(0.015625)\"/>\n      </defs>\n      <use xlink:href=\"#DejaVuSans-54\"/>\n      <use xlink:href=\"#DejaVuSans-61\" x=\"44.583984\"/>\n      <use xlink:href=\"#DejaVuSans-6e\" x=\"105.863281\"/>\n      <use xlink:href=\"#DejaVuSans-67\" x=\"169.242188\"/>\n      <use xlink:href=\"#DejaVuSans-65\" x=\"232.71875\"/>\n      <use xlink:href=\"#DejaVuSans-6e\" x=\"294.242188\"/>\n      <use xlink:href=\"#DejaVuSans-74\" x=\"357.621094\"/>\n      <use xlink:href=\"#DejaVuSans-20\" x=\"396.830078\"/>\n      <use xlink:href=\"#DejaVuSans-6c\" x=\"428.617188\"/>\n      <use xlink:href=\"#DejaVuSans-69\" x=\"456.400391\"/>\n      <use xlink:href=\"#DejaVuSans-6e\" x=\"484.183594\"/>\n      <use xlink:href=\"#DejaVuSans-65\" x=\"547.5625\"/>\n      <use xlink:href=\"#DejaVuSans-20\" x=\"609.085938\"/>\n      <use xlink:href=\"#DejaVuSans-28\" x=\"640.873047\"/>\n      <use xlink:href=\"#DejaVuSans-78\" x=\"679.886719\"/>\n      <use xlink:href=\"#DejaVuSans-3d\" x=\"739.066406\"/>\n      <use xlink:href=\"#DejaVuSans-31\" x=\"822.855469\"/>\n      <use xlink:href=\"#DejaVuSans-29\" x=\"886.478516\"/>\n     </g>\n    </g>\n   </g>\n  </g>\n </g>\n <defs>\n  <clipPath id=\"pf507af3297\">\n   <rect x=\"40.603125\" y=\"7.2\" width=\"195.3\" height=\"138.6\"/>\n  </clipPath>\n </defs>\n</svg>\n",
      "text/plain": [
       "<Figure size 350x250 with 1 Axes>"
      ]
     },
     "metadata": {},
     "output_type": "display_data"
    }
   ],
   "source": [
    "x = np.arange(0, 3, 0.1)\n",
    "plot(X=x, Y=[f(x), 2*x-3], xlabel='x', ylabel='f(x)', legend=['f(x)', 'Tangent line (x=1)'])"
   ]
  },
  {
   "attachments": {},
   "cell_type": "markdown",
   "metadata": {},
   "source": [
    "## 2.5 自动微分"
   ]
  },
  {
   "cell_type": "code",
   "execution_count": 41,
   "metadata": {},
   "outputs": [],
   "source": [
    "import tensorflow as tf\n",
    "x = tf.range(4, dtype=tf.float32)"
   ]
  },
  {
   "cell_type": "code",
   "execution_count": 42,
   "metadata": {},
   "outputs": [
    {
     "data": {
      "text/plain": [
       "<tf.Tensor: shape=(4,), dtype=float32, numpy=array([0., 1., 2., 3.], dtype=float32)>"
      ]
     },
     "execution_count": 42,
     "metadata": {},
     "output_type": "execute_result"
    }
   ],
   "source": [
    "x"
   ]
  },
  {
   "cell_type": "code",
   "execution_count": 43,
   "metadata": {},
   "outputs": [],
   "source": [
    "x = tf.Variable(x)"
   ]
  },
  {
   "cell_type": "code",
   "execution_count": 44,
   "metadata": {},
   "outputs": [
    {
     "data": {
      "text/plain": [
       "<tf.Variable 'Variable:0' shape=(4,) dtype=float32, numpy=array([0., 1., 2., 3.], dtype=float32)>"
      ]
     },
     "execution_count": 44,
     "metadata": {},
     "output_type": "execute_result"
    }
   ],
   "source": [
    "x"
   ]
  },
  {
   "cell_type": "code",
   "execution_count": 36,
   "metadata": {},
   "outputs": [
    {
     "name": "stdout",
     "output_type": "stream",
     "text": [
      "tf.Tensor(28.0, shape=(), dtype=float32)\n"
     ]
    }
   ],
   "source": [
    "with tf.GradientTape() as t:\n",
    "    y = 2 * tf.tensordot(x, x, axes=1)\n",
    "print(y)"
   ]
  },
  {
   "cell_type": "code",
   "execution_count": 37,
   "metadata": {},
   "outputs": [
    {
     "data": {
      "text/plain": [
       "<tf.Tensor: shape=(4,), dtype=float32, numpy=array([ 0.,  4.,  8., 12.], dtype=float32)>"
      ]
     },
     "execution_count": 37,
     "metadata": {},
     "output_type": "execute_result"
    }
   ],
   "source": [
    "x_grad = t.gradient(y, x)\n",
    "x_grad"
   ]
  },
  {
   "cell_type": "code",
   "execution_count": 45,
   "metadata": {},
   "outputs": [
    {
     "data": {
      "text/plain": [
       "<tf.Tensor: shape=(4,), dtype=bool, numpy=array([ True,  True,  True,  True])>"
      ]
     },
     "execution_count": 45,
     "metadata": {},
     "output_type": "execute_result"
    }
   ],
   "source": [
    "x_grad == 4 * x"
   ]
  },
  {
   "cell_type": "code",
   "execution_count": 46,
   "metadata": {},
   "outputs": [
    {
     "data": {
      "text/plain": [
       "<tf.Tensor: shape=(4,), dtype=float32, numpy=array([1., 1., 1., 1.], dtype=float32)>"
      ]
     },
     "execution_count": 46,
     "metadata": {},
     "output_type": "execute_result"
    }
   ],
   "source": [
    "with tf.GradientTape() as t:\n",
    "    y = tf.reduce_sum(x)\n",
    "t.gradient(y, x) # 被新计算的梯度覆盖"
   ]
  },
  {
   "cell_type": "code",
   "execution_count": 47,
   "metadata": {},
   "outputs": [
    {
     "data": {
      "text/plain": [
       "<tf.Tensor: shape=(4,), dtype=float32, numpy=array([0., 2., 4., 6.], dtype=float32)>"
      ]
     },
     "execution_count": 47,
     "metadata": {},
     "output_type": "execute_result"
    }
   ],
   "source": [
    "with tf.GradientTape() as t:\n",
    "    y = x * x\n",
    "t.gradient(y,x) # 等价于y=tf.reduce_sum(x*x)"
   ]
  },
  {
   "cell_type": "code",
   "execution_count": 54,
   "metadata": {},
   "outputs": [
    {
     "data": {
      "text/plain": [
       "<tf.Tensor: shape=(4,), dtype=bool, numpy=array([ True,  True,  True,  True])>"
      ]
     },
     "execution_count": 54,
     "metadata": {},
     "output_type": "execute_result"
    }
   ],
   "source": [
    "with tf.GradientTape(persistent=True) as t:\n",
    "    y = x * x\n",
    "    u = tf.stop_gradient(y)\n",
    "    z = u * x\n",
    "x_grad = t.gradient(z, x)\n",
    "x_grad == u"
   ]
  },
  {
   "cell_type": "code",
   "execution_count": 55,
   "metadata": {},
   "outputs": [
    {
     "data": {
      "text/plain": [
       "<tf.Tensor: shape=(4,), dtype=bool, numpy=array([ True,  True,  True,  True])>"
      ]
     },
     "execution_count": 55,
     "metadata": {},
     "output_type": "execute_result"
    }
   ],
   "source": [
    "t.gradient(y, x) == 2 * x"
   ]
  },
  {
   "cell_type": "code",
   "execution_count": 65,
   "metadata": {},
   "outputs": [
    {
     "data": {
      "text/plain": [
       "<tf.Tensor: shape=(), dtype=float32, numpy=11187.28>"
      ]
     },
     "execution_count": 65,
     "metadata": {},
     "output_type": "execute_result"
    }
   ],
   "source": [
    "def f(a):\n",
    "    b = a ** 2\n",
    "    while tf.norm(b) < 1000:\n",
    "        b = b * 2\n",
    "    if tf.reduce_sum(b) > 0:\n",
    "        c = b\n",
    "    else:\n",
    "        c = 100 * b\n",
    "    return c\n",
    "\n",
    "a = tf.Variable(tf.random.normal(shape=()))\n",
    "with tf.GradientTape() as t:\n",
    "    d = f(a)\n",
    "d_grad = t.gradient(d, a)\n",
    "d_grad"
   ]
  },
  {
   "cell_type": "code",
   "execution_count": 66,
   "metadata": {},
   "outputs": [
    {
     "data": {
      "text/plain": [
       "<tf.Tensor: shape=(), dtype=bool, numpy=False>"
      ]
     },
     "execution_count": 66,
     "metadata": {},
     "output_type": "execute_result"
    }
   ],
   "source": [
    "d_grad == d / a"
   ]
  },
  {
   "cell_type": "code",
   "execution_count": 68,
   "metadata": {},
   "outputs": [
    {
     "data": {
      "text/plain": [
       "(<tf.Tensor: shape=(), dtype=float32, numpy=1909.7174>,\n",
       " <tf.Variable 'Variable:0' shape=() dtype=float32, numpy=0.3414087>)"
      ]
     },
     "execution_count": 68,
     "metadata": {},
     "output_type": "execute_result"
    }
   ],
   "source": [
    "d, a"
   ]
  },
  {
   "cell_type": "code",
   "execution_count": null,
   "metadata": {},
   "outputs": [],
   "source": []
  },
  {
   "attachments": {},
   "cell_type": "markdown",
   "metadata": {},
   "source": [
    "## 2.6 概率"
   ]
  },
  {
   "cell_type": "code",
   "execution_count": 3,
   "metadata": {},
   "outputs": [],
   "source": [
    "%matplotlib inline\n",
    "import numpy as np\n",
    "import tensorflow as tf\n",
    "import tensorflow_probability as tfp\n",
    "from d2l import tensorflow as d2l"
   ]
  },
  {
   "cell_type": "code",
   "execution_count": 4,
   "metadata": {},
   "outputs": [
    {
     "data": {
      "text/plain": [
       "<tf.Tensor: shape=(6,), dtype=float32, numpy=array([0., 0., 1., 0., 0., 0.], dtype=float32)>"
      ]
     },
     "execution_count": 4,
     "metadata": {},
     "output_type": "execute_result"
    }
   ],
   "source": [
    "fair_probs = tf.ones(6) / 6\n",
    "tfp.distributions.Multinomial(1, fair_probs).sample()"
   ]
  },
  {
   "cell_type": "code",
   "execution_count": 9,
   "metadata": {},
   "outputs": [
    {
     "data": {
      "text/plain": [
       "<tf.Tensor: shape=(6,), dtype=float32, numpy=array([163., 173., 179., 160., 170., 155.], dtype=float32)>"
      ]
     },
     "execution_count": 9,
     "metadata": {},
     "output_type": "execute_result"
    }
   ],
   "source": [
    "tfp.distributions.Multinomial(1000, fair_probs).sample()"
   ]
  },
  {
   "cell_type": "code",
   "execution_count": 10,
   "metadata": {},
   "outputs": [
    {
     "data": {
      "text/plain": [
       "<matplotlib.legend.Legend at 0x1e07f65eb48>"
      ]
     },
     "execution_count": 10,
     "metadata": {},
     "output_type": "execute_result"
    },
    {
     "data": {
      "image/svg+xml": "<?xml version=\"1.0\" encoding=\"utf-8\" standalone=\"no\"?>\n<!DOCTYPE svg PUBLIC \"-//W3C//DTD SVG 1.1//EN\"\n  \"http://www.w3.org/Graphics/SVG/1.1/DTD/svg11.dtd\">\n<svg xmlns:xlink=\"http://www.w3.org/1999/xlink\" width=\"385.78125pt\" height=\"294.23625pt\" viewBox=\"0 0 385.78125 294.23625\" xmlns=\"http://www.w3.org/2000/svg\" version=\"1.1\">\n <metadata>\n  <rdf:RDF xmlns:dc=\"http://purl.org/dc/elements/1.1/\" xmlns:cc=\"http://creativecommons.org/ns#\" xmlns:rdf=\"http://www.w3.org/1999/02/22-rdf-syntax-ns#\">\n   <cc:Work>\n    <dc:type rdf:resource=\"http://purl.org/dc/dcmitype/StillImage\"/>\n    <dc:date>2023-03-14T08:00:10.350637</dc:date>\n    <dc:format>image/svg+xml</dc:format>\n    <dc:creator>\n     <cc:Agent>\n      <dc:title>Matplotlib v3.5.1, https://matplotlib.org/</dc:title>\n     </cc:Agent>\n    </dc:creator>\n   </cc:Work>\n  </rdf:RDF>\n </metadata>\n <defs>\n  <style type=\"text/css\">*{stroke-linejoin: round; stroke-linecap: butt}</style>\n </defs>\n <g id=\"figure_1\">\n  <g id=\"patch_1\">\n   <path d=\"M 0 294.23625 \nL 385.78125 294.23625 \nL 385.78125 0 \nL 0 0 \nz\n\" style=\"fill: #ffffff\"/>\n  </g>\n  <g id=\"axes_1\">\n   <g id=\"patch_2\">\n    <path d=\"M 43.78125 256.68 \nL 378.58125 256.68 \nL 378.58125 7.2 \nL 43.78125 7.2 \nz\n\" style=\"fill: #ffffff\"/>\n   </g>\n   <g id=\"matplotlib.axis_1\">\n    <g id=\"xtick_1\">\n     <g id=\"line2d_1\">\n      <defs>\n       <path id=\"m6beaa7415b\" d=\"M 0 0 \nL 0 3.5 \n\" style=\"stroke: #000000; stroke-width: 0.8\"/>\n      </defs>\n      <g>\n       <use xlink:href=\"#m6beaa7415b\" x=\"58.999432\" y=\"256.68\" style=\"stroke: #000000; stroke-width: 0.8\"/>\n      </g>\n     </g>\n     <g id=\"text_1\">\n      <!-- 0 -->\n      <g transform=\"translate(55.818182 271.278437)scale(0.1 -0.1)\">\n       <defs>\n        <path id=\"DejaVuSans-30\" d=\"M 2034 4250 \nQ 1547 4250 1301 3770 \nQ 1056 3291 1056 2328 \nQ 1056 1369 1301 889 \nQ 1547 409 2034 409 \nQ 2525 409 2770 889 \nQ 3016 1369 3016 2328 \nQ 3016 3291 2770 3770 \nQ 2525 4250 2034 4250 \nz\nM 2034 4750 \nQ 2819 4750 3233 4129 \nQ 3647 3509 3647 2328 \nQ 3647 1150 3233 529 \nQ 2819 -91 2034 -91 \nQ 1250 -91 836 529 \nQ 422 1150 422 2328 \nQ 422 3509 836 4129 \nQ 1250 4750 2034 4750 \nz\n\" transform=\"scale(0.015625)\"/>\n       </defs>\n       <use xlink:href=\"#DejaVuSans-30\"/>\n      </g>\n     </g>\n    </g>\n    <g id=\"xtick_2\">\n     <g id=\"line2d_2\">\n      <g>\n       <use xlink:href=\"#m6beaa7415b\" x=\"119.994149\" y=\"256.68\" style=\"stroke: #000000; stroke-width: 0.8\"/>\n      </g>\n     </g>\n     <g id=\"text_2\">\n      <!-- 100 -->\n      <g transform=\"translate(110.450399 271.278437)scale(0.1 -0.1)\">\n       <defs>\n        <path id=\"DejaVuSans-31\" d=\"M 794 531 \nL 1825 531 \nL 1825 4091 \nL 703 3866 \nL 703 4441 \nL 1819 4666 \nL 2450 4666 \nL 2450 531 \nL 3481 531 \nL 3481 0 \nL 794 0 \nL 794 531 \nz\n\" transform=\"scale(0.015625)\"/>\n       </defs>\n       <use xlink:href=\"#DejaVuSans-31\"/>\n       <use xlink:href=\"#DejaVuSans-30\" x=\"63.623047\"/>\n       <use xlink:href=\"#DejaVuSans-30\" x=\"127.246094\"/>\n      </g>\n     </g>\n    </g>\n    <g id=\"xtick_3\">\n     <g id=\"line2d_3\">\n      <g>\n       <use xlink:href=\"#m6beaa7415b\" x=\"180.988865\" y=\"256.68\" style=\"stroke: #000000; stroke-width: 0.8\"/>\n      </g>\n     </g>\n     <g id=\"text_3\">\n      <!-- 200 -->\n      <g transform=\"translate(171.445115 271.278437)scale(0.1 -0.1)\">\n       <defs>\n        <path id=\"DejaVuSans-32\" d=\"M 1228 531 \nL 3431 531 \nL 3431 0 \nL 469 0 \nL 469 531 \nQ 828 903 1448 1529 \nQ 2069 2156 2228 2338 \nQ 2531 2678 2651 2914 \nQ 2772 3150 2772 3378 \nQ 2772 3750 2511 3984 \nQ 2250 4219 1831 4219 \nQ 1534 4219 1204 4116 \nQ 875 4013 500 3803 \nL 500 4441 \nQ 881 4594 1212 4672 \nQ 1544 4750 1819 4750 \nQ 2544 4750 2975 4387 \nQ 3406 4025 3406 3419 \nQ 3406 3131 3298 2873 \nQ 3191 2616 2906 2266 \nQ 2828 2175 2409 1742 \nQ 1991 1309 1228 531 \nz\n\" transform=\"scale(0.015625)\"/>\n       </defs>\n       <use xlink:href=\"#DejaVuSans-32\"/>\n       <use xlink:href=\"#DejaVuSans-30\" x=\"63.623047\"/>\n       <use xlink:href=\"#DejaVuSans-30\" x=\"127.246094\"/>\n      </g>\n     </g>\n    </g>\n    <g id=\"xtick_4\">\n     <g id=\"line2d_4\">\n      <g>\n       <use xlink:href=\"#m6beaa7415b\" x=\"241.983582\" y=\"256.68\" style=\"stroke: #000000; stroke-width: 0.8\"/>\n      </g>\n     </g>\n     <g id=\"text_4\">\n      <!-- 300 -->\n      <g transform=\"translate(232.439832 271.278437)scale(0.1 -0.1)\">\n       <defs>\n        <path id=\"DejaVuSans-33\" d=\"M 2597 2516 \nQ 3050 2419 3304 2112 \nQ 3559 1806 3559 1356 \nQ 3559 666 3084 287 \nQ 2609 -91 1734 -91 \nQ 1441 -91 1130 -33 \nQ 819 25 488 141 \nL 488 750 \nQ 750 597 1062 519 \nQ 1375 441 1716 441 \nQ 2309 441 2620 675 \nQ 2931 909 2931 1356 \nQ 2931 1769 2642 2001 \nQ 2353 2234 1838 2234 \nL 1294 2234 \nL 1294 2753 \nL 1863 2753 \nQ 2328 2753 2575 2939 \nQ 2822 3125 2822 3475 \nQ 2822 3834 2567 4026 \nQ 2313 4219 1838 4219 \nQ 1578 4219 1281 4162 \nQ 984 4106 628 3988 \nL 628 4550 \nQ 988 4650 1302 4700 \nQ 1616 4750 1894 4750 \nQ 2613 4750 3031 4423 \nQ 3450 4097 3450 3541 \nQ 3450 3153 3228 2886 \nQ 3006 2619 2597 2516 \nz\n\" transform=\"scale(0.015625)\"/>\n       </defs>\n       <use xlink:href=\"#DejaVuSans-33\"/>\n       <use xlink:href=\"#DejaVuSans-30\" x=\"63.623047\"/>\n       <use xlink:href=\"#DejaVuSans-30\" x=\"127.246094\"/>\n      </g>\n     </g>\n    </g>\n    <g id=\"xtick_5\">\n     <g id=\"line2d_5\">\n      <g>\n       <use xlink:href=\"#m6beaa7415b\" x=\"302.978299\" y=\"256.68\" style=\"stroke: #000000; stroke-width: 0.8\"/>\n      </g>\n     </g>\n     <g id=\"text_5\">\n      <!-- 400 -->\n      <g transform=\"translate(293.434549 271.278437)scale(0.1 -0.1)\">\n       <defs>\n        <path id=\"DejaVuSans-34\" d=\"M 2419 4116 \nL 825 1625 \nL 2419 1625 \nL 2419 4116 \nz\nM 2253 4666 \nL 3047 4666 \nL 3047 1625 \nL 3713 1625 \nL 3713 1100 \nL 3047 1100 \nL 3047 0 \nL 2419 0 \nL 2419 1100 \nL 313 1100 \nL 313 1709 \nL 2253 4666 \nz\n\" transform=\"scale(0.015625)\"/>\n       </defs>\n       <use xlink:href=\"#DejaVuSans-34\"/>\n       <use xlink:href=\"#DejaVuSans-30\" x=\"63.623047\"/>\n       <use xlink:href=\"#DejaVuSans-30\" x=\"127.246094\"/>\n      </g>\n     </g>\n    </g>\n    <g id=\"xtick_6\">\n     <g id=\"line2d_6\">\n      <g>\n       <use xlink:href=\"#m6beaa7415b\" x=\"363.973015\" y=\"256.68\" style=\"stroke: #000000; stroke-width: 0.8\"/>\n      </g>\n     </g>\n     <g id=\"text_6\">\n      <!-- 500 -->\n      <g transform=\"translate(354.429265 271.278437)scale(0.1 -0.1)\">\n       <defs>\n        <path id=\"DejaVuSans-35\" d=\"M 691 4666 \nL 3169 4666 \nL 3169 4134 \nL 1269 4134 \nL 1269 2991 \nQ 1406 3038 1543 3061 \nQ 1681 3084 1819 3084 \nQ 2600 3084 3056 2656 \nQ 3513 2228 3513 1497 \nQ 3513 744 3044 326 \nQ 2575 -91 1722 -91 \nQ 1428 -91 1123 -41 \nQ 819 9 494 109 \nL 494 744 \nQ 775 591 1075 516 \nQ 1375 441 1709 441 \nQ 2250 441 2565 725 \nQ 2881 1009 2881 1497 \nQ 2881 1984 2565 2268 \nQ 2250 2553 1709 2553 \nQ 1456 2553 1204 2497 \nQ 953 2441 691 2322 \nL 691 4666 \nz\n\" transform=\"scale(0.015625)\"/>\n       </defs>\n       <use xlink:href=\"#DejaVuSans-35\"/>\n       <use xlink:href=\"#DejaVuSans-30\" x=\"63.623047\"/>\n       <use xlink:href=\"#DejaVuSans-30\" x=\"127.246094\"/>\n      </g>\n     </g>\n    </g>\n    <g id=\"text_7\">\n     <!-- Groups of experiments -->\n     <g transform=\"translate(154.035156 284.956562)scale(0.1 -0.1)\">\n      <defs>\n       <path id=\"DejaVuSans-47\" d=\"M 3809 666 \nL 3809 1919 \nL 2778 1919 \nL 2778 2438 \nL 4434 2438 \nL 4434 434 \nQ 4069 175 3628 42 \nQ 3188 -91 2688 -91 \nQ 1594 -91 976 548 \nQ 359 1188 359 2328 \nQ 359 3472 976 4111 \nQ 1594 4750 2688 4750 \nQ 3144 4750 3555 4637 \nQ 3966 4525 4313 4306 \nL 4313 3634 \nQ 3963 3931 3569 4081 \nQ 3175 4231 2741 4231 \nQ 1884 4231 1454 3753 \nQ 1025 3275 1025 2328 \nQ 1025 1384 1454 906 \nQ 1884 428 2741 428 \nQ 3075 428 3337 486 \nQ 3600 544 3809 666 \nz\n\" transform=\"scale(0.015625)\"/>\n       <path id=\"DejaVuSans-72\" d=\"M 2631 2963 \nQ 2534 3019 2420 3045 \nQ 2306 3072 2169 3072 \nQ 1681 3072 1420 2755 \nQ 1159 2438 1159 1844 \nL 1159 0 \nL 581 0 \nL 581 3500 \nL 1159 3500 \nL 1159 2956 \nQ 1341 3275 1631 3429 \nQ 1922 3584 2338 3584 \nQ 2397 3584 2469 3576 \nQ 2541 3569 2628 3553 \nL 2631 2963 \nz\n\" transform=\"scale(0.015625)\"/>\n       <path id=\"DejaVuSans-6f\" d=\"M 1959 3097 \nQ 1497 3097 1228 2736 \nQ 959 2375 959 1747 \nQ 959 1119 1226 758 \nQ 1494 397 1959 397 \nQ 2419 397 2687 759 \nQ 2956 1122 2956 1747 \nQ 2956 2369 2687 2733 \nQ 2419 3097 1959 3097 \nz\nM 1959 3584 \nQ 2709 3584 3137 3096 \nQ 3566 2609 3566 1747 \nQ 3566 888 3137 398 \nQ 2709 -91 1959 -91 \nQ 1206 -91 779 398 \nQ 353 888 353 1747 \nQ 353 2609 779 3096 \nQ 1206 3584 1959 3584 \nz\n\" transform=\"scale(0.015625)\"/>\n       <path id=\"DejaVuSans-75\" d=\"M 544 1381 \nL 544 3500 \nL 1119 3500 \nL 1119 1403 \nQ 1119 906 1312 657 \nQ 1506 409 1894 409 \nQ 2359 409 2629 706 \nQ 2900 1003 2900 1516 \nL 2900 3500 \nL 3475 3500 \nL 3475 0 \nL 2900 0 \nL 2900 538 \nQ 2691 219 2414 64 \nQ 2138 -91 1772 -91 \nQ 1169 -91 856 284 \nQ 544 659 544 1381 \nz\nM 1991 3584 \nL 1991 3584 \nz\n\" transform=\"scale(0.015625)\"/>\n       <path id=\"DejaVuSans-70\" d=\"M 1159 525 \nL 1159 -1331 \nL 581 -1331 \nL 581 3500 \nL 1159 3500 \nL 1159 2969 \nQ 1341 3281 1617 3432 \nQ 1894 3584 2278 3584 \nQ 2916 3584 3314 3078 \nQ 3713 2572 3713 1747 \nQ 3713 922 3314 415 \nQ 2916 -91 2278 -91 \nQ 1894 -91 1617 61 \nQ 1341 213 1159 525 \nz\nM 3116 1747 \nQ 3116 2381 2855 2742 \nQ 2594 3103 2138 3103 \nQ 1681 3103 1420 2742 \nQ 1159 2381 1159 1747 \nQ 1159 1113 1420 752 \nQ 1681 391 2138 391 \nQ 2594 391 2855 752 \nQ 3116 1113 3116 1747 \nz\n\" transform=\"scale(0.015625)\"/>\n       <path id=\"DejaVuSans-73\" d=\"M 2834 3397 \nL 2834 2853 \nQ 2591 2978 2328 3040 \nQ 2066 3103 1784 3103 \nQ 1356 3103 1142 2972 \nQ 928 2841 928 2578 \nQ 928 2378 1081 2264 \nQ 1234 2150 1697 2047 \nL 1894 2003 \nQ 2506 1872 2764 1633 \nQ 3022 1394 3022 966 \nQ 3022 478 2636 193 \nQ 2250 -91 1575 -91 \nQ 1294 -91 989 -36 \nQ 684 19 347 128 \nL 347 722 \nQ 666 556 975 473 \nQ 1284 391 1588 391 \nQ 1994 391 2212 530 \nQ 2431 669 2431 922 \nQ 2431 1156 2273 1281 \nQ 2116 1406 1581 1522 \nL 1381 1569 \nQ 847 1681 609 1914 \nQ 372 2147 372 2553 \nQ 372 3047 722 3315 \nQ 1072 3584 1716 3584 \nQ 2034 3584 2315 3537 \nQ 2597 3491 2834 3397 \nz\n\" transform=\"scale(0.015625)\"/>\n       <path id=\"DejaVuSans-20\" transform=\"scale(0.015625)\"/>\n       <path id=\"DejaVuSans-66\" d=\"M 2375 4863 \nL 2375 4384 \nL 1825 4384 \nQ 1516 4384 1395 4259 \nQ 1275 4134 1275 3809 \nL 1275 3500 \nL 2222 3500 \nL 2222 3053 \nL 1275 3053 \nL 1275 0 \nL 697 0 \nL 697 3053 \nL 147 3053 \nL 147 3500 \nL 697 3500 \nL 697 3744 \nQ 697 4328 969 4595 \nQ 1241 4863 1831 4863 \nL 2375 4863 \nz\n\" transform=\"scale(0.015625)\"/>\n       <path id=\"DejaVuSans-65\" d=\"M 3597 1894 \nL 3597 1613 \nL 953 1613 \nQ 991 1019 1311 708 \nQ 1631 397 2203 397 \nQ 2534 397 2845 478 \nQ 3156 559 3463 722 \nL 3463 178 \nQ 3153 47 2828 -22 \nQ 2503 -91 2169 -91 \nQ 1331 -91 842 396 \nQ 353 884 353 1716 \nQ 353 2575 817 3079 \nQ 1281 3584 2069 3584 \nQ 2775 3584 3186 3129 \nQ 3597 2675 3597 1894 \nz\nM 3022 2063 \nQ 3016 2534 2758 2815 \nQ 2500 3097 2075 3097 \nQ 1594 3097 1305 2825 \nQ 1016 2553 972 2059 \nL 3022 2063 \nz\n\" transform=\"scale(0.015625)\"/>\n       <path id=\"DejaVuSans-78\" d=\"M 3513 3500 \nL 2247 1797 \nL 3578 0 \nL 2900 0 \nL 1881 1375 \nL 863 0 \nL 184 0 \nL 1544 1831 \nL 300 3500 \nL 978 3500 \nL 1906 2253 \nL 2834 3500 \nL 3513 3500 \nz\n\" transform=\"scale(0.015625)\"/>\n       <path id=\"DejaVuSans-69\" d=\"M 603 3500 \nL 1178 3500 \nL 1178 0 \nL 603 0 \nL 603 3500 \nz\nM 603 4863 \nL 1178 4863 \nL 1178 4134 \nL 603 4134 \nL 603 4863 \nz\n\" transform=\"scale(0.015625)\"/>\n       <path id=\"DejaVuSans-6d\" d=\"M 3328 2828 \nQ 3544 3216 3844 3400 \nQ 4144 3584 4550 3584 \nQ 5097 3584 5394 3201 \nQ 5691 2819 5691 2113 \nL 5691 0 \nL 5113 0 \nL 5113 2094 \nQ 5113 2597 4934 2840 \nQ 4756 3084 4391 3084 \nQ 3944 3084 3684 2787 \nQ 3425 2491 3425 1978 \nL 3425 0 \nL 2847 0 \nL 2847 2094 \nQ 2847 2600 2669 2842 \nQ 2491 3084 2119 3084 \nQ 1678 3084 1418 2786 \nQ 1159 2488 1159 1978 \nL 1159 0 \nL 581 0 \nL 581 3500 \nL 1159 3500 \nL 1159 2956 \nQ 1356 3278 1631 3431 \nQ 1906 3584 2284 3584 \nQ 2666 3584 2933 3390 \nQ 3200 3197 3328 2828 \nz\n\" transform=\"scale(0.015625)\"/>\n       <path id=\"DejaVuSans-6e\" d=\"M 3513 2113 \nL 3513 0 \nL 2938 0 \nL 2938 2094 \nQ 2938 2591 2744 2837 \nQ 2550 3084 2163 3084 \nQ 1697 3084 1428 2787 \nQ 1159 2491 1159 1978 \nL 1159 0 \nL 581 0 \nL 581 3500 \nL 1159 3500 \nL 1159 2956 \nQ 1366 3272 1645 3428 \nQ 1925 3584 2291 3584 \nQ 2894 3584 3203 3211 \nQ 3513 2838 3513 2113 \nz\n\" transform=\"scale(0.015625)\"/>\n       <path id=\"DejaVuSans-74\" d=\"M 1172 4494 \nL 1172 3500 \nL 2356 3500 \nL 2356 3053 \nL 1172 3053 \nL 1172 1153 \nQ 1172 725 1289 603 \nQ 1406 481 1766 481 \nL 2356 481 \nL 2356 0 \nL 1766 0 \nQ 1100 0 847 248 \nQ 594 497 594 1153 \nL 594 3053 \nL 172 3053 \nL 172 3500 \nL 594 3500 \nL 594 4494 \nL 1172 4494 \nz\n\" transform=\"scale(0.015625)\"/>\n      </defs>\n      <use xlink:href=\"#DejaVuSans-47\"/>\n      <use xlink:href=\"#DejaVuSans-72\" x=\"77.490234\"/>\n      <use xlink:href=\"#DejaVuSans-6f\" x=\"116.353516\"/>\n      <use xlink:href=\"#DejaVuSans-75\" x=\"177.535156\"/>\n      <use xlink:href=\"#DejaVuSans-70\" x=\"240.914062\"/>\n      <use xlink:href=\"#DejaVuSans-73\" x=\"304.390625\"/>\n      <use xlink:href=\"#DejaVuSans-20\" x=\"356.490234\"/>\n      <use xlink:href=\"#DejaVuSans-6f\" x=\"388.277344\"/>\n      <use xlink:href=\"#DejaVuSans-66\" x=\"449.458984\"/>\n      <use xlink:href=\"#DejaVuSans-20\" x=\"484.664062\"/>\n      <use xlink:href=\"#DejaVuSans-65\" x=\"516.451172\"/>\n      <use xlink:href=\"#DejaVuSans-78\" x=\"576.224609\"/>\n      <use xlink:href=\"#DejaVuSans-70\" x=\"635.404297\"/>\n      <use xlink:href=\"#DejaVuSans-65\" x=\"698.880859\"/>\n      <use xlink:href=\"#DejaVuSans-72\" x=\"760.404297\"/>\n      <use xlink:href=\"#DejaVuSans-69\" x=\"801.517578\"/>\n      <use xlink:href=\"#DejaVuSans-6d\" x=\"829.300781\"/>\n      <use xlink:href=\"#DejaVuSans-65\" x=\"926.712891\"/>\n      <use xlink:href=\"#DejaVuSans-6e\" x=\"988.236328\"/>\n      <use xlink:href=\"#DejaVuSans-74\" x=\"1051.615234\"/>\n      <use xlink:href=\"#DejaVuSans-73\" x=\"1090.824219\"/>\n     </g>\n    </g>\n   </g>\n   <g id=\"matplotlib.axis_2\">\n    <g id=\"ytick_1\">\n     <g id=\"line2d_7\">\n      <defs>\n       <path id=\"m2a0a7810be\" d=\"M 0 0 \nL -3.5 0 \n\" style=\"stroke: #000000; stroke-width: 0.8\"/>\n      </defs>\n      <g>\n       <use xlink:href=\"#m2a0a7810be\" x=\"43.78125\" y=\"245.34\" style=\"stroke: #000000; stroke-width: 0.8\"/>\n      </g>\n     </g>\n     <g id=\"text_8\">\n      <!-- 0.0 -->\n      <g transform=\"translate(20.878125 249.139219)scale(0.1 -0.1)\">\n       <defs>\n        <path id=\"DejaVuSans-2e\" d=\"M 684 794 \nL 1344 794 \nL 1344 0 \nL 684 0 \nL 684 794 \nz\n\" transform=\"scale(0.015625)\"/>\n       </defs>\n       <use xlink:href=\"#DejaVuSans-30\"/>\n       <use xlink:href=\"#DejaVuSans-2e\" x=\"63.623047\"/>\n       <use xlink:href=\"#DejaVuSans-30\" x=\"95.410156\"/>\n      </g>\n     </g>\n    </g>\n    <g id=\"ytick_2\">\n     <g id=\"line2d_8\">\n      <g>\n       <use xlink:href=\"#m2a0a7810be\" x=\"43.78125\" y=\"199.98\" style=\"stroke: #000000; stroke-width: 0.8\"/>\n      </g>\n     </g>\n     <g id=\"text_9\">\n      <!-- 0.1 -->\n      <g transform=\"translate(20.878125 203.779219)scale(0.1 -0.1)\">\n       <use xlink:href=\"#DejaVuSans-30\"/>\n       <use xlink:href=\"#DejaVuSans-2e\" x=\"63.623047\"/>\n       <use xlink:href=\"#DejaVuSans-31\" x=\"95.410156\"/>\n      </g>\n     </g>\n    </g>\n    <g id=\"ytick_3\">\n     <g id=\"line2d_9\">\n      <g>\n       <use xlink:href=\"#m2a0a7810be\" x=\"43.78125\" y=\"154.62\" style=\"stroke: #000000; stroke-width: 0.8\"/>\n      </g>\n     </g>\n     <g id=\"text_10\">\n      <!-- 0.2 -->\n      <g transform=\"translate(20.878125 158.419219)scale(0.1 -0.1)\">\n       <use xlink:href=\"#DejaVuSans-30\"/>\n       <use xlink:href=\"#DejaVuSans-2e\" x=\"63.623047\"/>\n       <use xlink:href=\"#DejaVuSans-32\" x=\"95.410156\"/>\n      </g>\n     </g>\n    </g>\n    <g id=\"ytick_4\">\n     <g id=\"line2d_10\">\n      <g>\n       <use xlink:href=\"#m2a0a7810be\" x=\"43.78125\" y=\"109.26\" style=\"stroke: #000000; stroke-width: 0.8\"/>\n      </g>\n     </g>\n     <g id=\"text_11\">\n      <!-- 0.3 -->\n      <g transform=\"translate(20.878125 113.059219)scale(0.1 -0.1)\">\n       <use xlink:href=\"#DejaVuSans-30\"/>\n       <use xlink:href=\"#DejaVuSans-2e\" x=\"63.623047\"/>\n       <use xlink:href=\"#DejaVuSans-33\" x=\"95.410156\"/>\n      </g>\n     </g>\n    </g>\n    <g id=\"ytick_5\">\n     <g id=\"line2d_11\">\n      <g>\n       <use xlink:href=\"#m2a0a7810be\" x=\"43.78125\" y=\"63.9\" style=\"stroke: #000000; stroke-width: 0.8\"/>\n      </g>\n     </g>\n     <g id=\"text_12\">\n      <!-- 0.4 -->\n      <g transform=\"translate(20.878125 67.699219)scale(0.1 -0.1)\">\n       <use xlink:href=\"#DejaVuSans-30\"/>\n       <use xlink:href=\"#DejaVuSans-2e\" x=\"63.623047\"/>\n       <use xlink:href=\"#DejaVuSans-34\" x=\"95.410156\"/>\n      </g>\n     </g>\n    </g>\n    <g id=\"ytick_6\">\n     <g id=\"line2d_12\">\n      <g>\n       <use xlink:href=\"#m2a0a7810be\" x=\"43.78125\" y=\"18.54\" style=\"stroke: #000000; stroke-width: 0.8\"/>\n      </g>\n     </g>\n     <g id=\"text_13\">\n      <!-- 0.5 -->\n      <g transform=\"translate(20.878125 22.339219)scale(0.1 -0.1)\">\n       <use xlink:href=\"#DejaVuSans-30\"/>\n       <use xlink:href=\"#DejaVuSans-2e\" x=\"63.623047\"/>\n       <use xlink:href=\"#DejaVuSans-35\" x=\"95.410156\"/>\n      </g>\n     </g>\n    </g>\n    <g id=\"text_14\">\n     <!-- Estimated probability -->\n     <g transform=\"translate(14.798438 185.463437)rotate(-90)scale(0.1 -0.1)\">\n      <defs>\n       <path id=\"DejaVuSans-45\" d=\"M 628 4666 \nL 3578 4666 \nL 3578 4134 \nL 1259 4134 \nL 1259 2753 \nL 3481 2753 \nL 3481 2222 \nL 1259 2222 \nL 1259 531 \nL 3634 531 \nL 3634 0 \nL 628 0 \nL 628 4666 \nz\n\" transform=\"scale(0.015625)\"/>\n       <path id=\"DejaVuSans-61\" d=\"M 2194 1759 \nQ 1497 1759 1228 1600 \nQ 959 1441 959 1056 \nQ 959 750 1161 570 \nQ 1363 391 1709 391 \nQ 2188 391 2477 730 \nQ 2766 1069 2766 1631 \nL 2766 1759 \nL 2194 1759 \nz\nM 3341 1997 \nL 3341 0 \nL 2766 0 \nL 2766 531 \nQ 2569 213 2275 61 \nQ 1981 -91 1556 -91 \nQ 1019 -91 701 211 \nQ 384 513 384 1019 \nQ 384 1609 779 1909 \nQ 1175 2209 1959 2209 \nL 2766 2209 \nL 2766 2266 \nQ 2766 2663 2505 2880 \nQ 2244 3097 1772 3097 \nQ 1472 3097 1187 3025 \nQ 903 2953 641 2809 \nL 641 3341 \nQ 956 3463 1253 3523 \nQ 1550 3584 1831 3584 \nQ 2591 3584 2966 3190 \nQ 3341 2797 3341 1997 \nz\n\" transform=\"scale(0.015625)\"/>\n       <path id=\"DejaVuSans-64\" d=\"M 2906 2969 \nL 2906 4863 \nL 3481 4863 \nL 3481 0 \nL 2906 0 \nL 2906 525 \nQ 2725 213 2448 61 \nQ 2172 -91 1784 -91 \nQ 1150 -91 751 415 \nQ 353 922 353 1747 \nQ 353 2572 751 3078 \nQ 1150 3584 1784 3584 \nQ 2172 3584 2448 3432 \nQ 2725 3281 2906 2969 \nz\nM 947 1747 \nQ 947 1113 1208 752 \nQ 1469 391 1925 391 \nQ 2381 391 2643 752 \nQ 2906 1113 2906 1747 \nQ 2906 2381 2643 2742 \nQ 2381 3103 1925 3103 \nQ 1469 3103 1208 2742 \nQ 947 2381 947 1747 \nz\n\" transform=\"scale(0.015625)\"/>\n       <path id=\"DejaVuSans-62\" d=\"M 3116 1747 \nQ 3116 2381 2855 2742 \nQ 2594 3103 2138 3103 \nQ 1681 3103 1420 2742 \nQ 1159 2381 1159 1747 \nQ 1159 1113 1420 752 \nQ 1681 391 2138 391 \nQ 2594 391 2855 752 \nQ 3116 1113 3116 1747 \nz\nM 1159 2969 \nQ 1341 3281 1617 3432 \nQ 1894 3584 2278 3584 \nQ 2916 3584 3314 3078 \nQ 3713 2572 3713 1747 \nQ 3713 922 3314 415 \nQ 2916 -91 2278 -91 \nQ 1894 -91 1617 61 \nQ 1341 213 1159 525 \nL 1159 0 \nL 581 0 \nL 581 4863 \nL 1159 4863 \nL 1159 2969 \nz\n\" transform=\"scale(0.015625)\"/>\n       <path id=\"DejaVuSans-6c\" d=\"M 603 4863 \nL 1178 4863 \nL 1178 0 \nL 603 0 \nL 603 4863 \nz\n\" transform=\"scale(0.015625)\"/>\n       <path id=\"DejaVuSans-79\" d=\"M 2059 -325 \nQ 1816 -950 1584 -1140 \nQ 1353 -1331 966 -1331 \nL 506 -1331 \nL 506 -850 \nL 844 -850 \nQ 1081 -850 1212 -737 \nQ 1344 -625 1503 -206 \nL 1606 56 \nL 191 3500 \nL 800 3500 \nL 1894 763 \nL 2988 3500 \nL 3597 3500 \nL 2059 -325 \nz\n\" transform=\"scale(0.015625)\"/>\n      </defs>\n      <use xlink:href=\"#DejaVuSans-45\"/>\n      <use xlink:href=\"#DejaVuSans-73\" x=\"63.183594\"/>\n      <use xlink:href=\"#DejaVuSans-74\" x=\"115.283203\"/>\n      <use xlink:href=\"#DejaVuSans-69\" x=\"154.492188\"/>\n      <use xlink:href=\"#DejaVuSans-6d\" x=\"182.275391\"/>\n      <use xlink:href=\"#DejaVuSans-61\" x=\"279.6875\"/>\n      <use xlink:href=\"#DejaVuSans-74\" x=\"340.966797\"/>\n      <use xlink:href=\"#DejaVuSans-65\" x=\"380.175781\"/>\n      <use xlink:href=\"#DejaVuSans-64\" x=\"441.699219\"/>\n      <use xlink:href=\"#DejaVuSans-20\" x=\"505.175781\"/>\n      <use xlink:href=\"#DejaVuSans-70\" x=\"536.962891\"/>\n      <use xlink:href=\"#DejaVuSans-72\" x=\"600.439453\"/>\n      <use xlink:href=\"#DejaVuSans-6f\" x=\"639.302734\"/>\n      <use xlink:href=\"#DejaVuSans-62\" x=\"700.484375\"/>\n      <use xlink:href=\"#DejaVuSans-61\" x=\"763.960938\"/>\n      <use xlink:href=\"#DejaVuSans-62\" x=\"825.240234\"/>\n      <use xlink:href=\"#DejaVuSans-69\" x=\"888.716797\"/>\n      <use xlink:href=\"#DejaVuSans-6c\" x=\"916.5\"/>\n      <use xlink:href=\"#DejaVuSans-69\" x=\"944.283203\"/>\n      <use xlink:href=\"#DejaVuSans-74\" x=\"972.066406\"/>\n      <use xlink:href=\"#DejaVuSans-79\" x=\"1011.275391\"/>\n     </g>\n    </g>\n   </g>\n   <g id=\"line2d_13\">\n    <path d=\"M 58.999432 109.259995 \nL 59.609379 131.94 \nL 60.219326 169.739998 \nL 60.829273 177.299997 \nL 61.43922 172.764002 \nL 62.049168 162.179998 \nL 62.659115 174.059997 \nL 63.269062 177.299997 \nL 63.879009 169.739998 \nL 65.098903 183.485453 \nL 65.708851 184.859997 \nL 66.318798 182.533843 \nL 66.928745 183.779997 \nL 67.538692 187.884001 \nL 68.758586 183.970585 \nL 69.368534 184.859997 \nL 70.588428 177.299997 \nL 71.198375 178.379997 \nL 71.808322 175.238181 \nL 72.418269 176.313916 \nL 73.028217 175.409999 \nL 73.638164 176.392802 \nL 74.248111 175.555382 \nL 74.858058 171.420002 \nL 76.077952 167.133102 \nL 77.297847 169.252256 \nL 77.907794 167.3775 \nL 79.737635 170.172003 \nL 80.347583 169.739998 \nL 80.95753 171.783247 \nL 82.787371 173.898001 \nL 83.397319 175.640487 \nL 84.007266 175.139997 \nL 84.617213 176.772559 \nL 85.837107 173.772003 \nL 86.447054 173.355652 \nL 87.666949 174.465 \nL 88.276896 175.911428 \nL 88.886843 176.392802 \nL 89.49679 177.744703 \nL 90.106737 177.299997 \nL 90.716685 178.583773 \nL 91.936579 179.36182 \nL 92.546526 178.920001 \nL 93.76642 179.646205 \nL 94.376368 180.759663 \nL 95.596262 179.902621 \nL 96.206209 178.763228 \nL 98.036051 177.648926 \nL 98.645998 176.612725 \nL 99.255945 177.63851 \nL 99.865892 177.299997 \nL 100.475839 176.313916 \nL 101.085786 176.652003 \nL 102.305681 174.779997 \nL 102.915628 174.503838 \nL 104.135522 176.392802 \nL 104.745469 176.703156 \nL 105.355417 175.827269 \nL 105.965364 174.392305 \nL 107.185258 176.165998 \nL 109.0151 177.026744 \nL 109.625047 177.840001 \nL 110.234994 178.100472 \nL 110.844941 177.827442 \nL 112.064835 178.330912 \nL 113.894677 177.549228 \nL 114.504624 177.793045 \nL 115.114571 177.056127 \nL 115.724518 177.782554 \nL 116.334466 177.061264 \nL 116.944413 177.772497 \nL 117.55436 178.001443 \nL 118.164307 177.762858 \nL 118.774254 177.070909 \nL 119.384201 177.299997 \nL 120.604096 176.855291 \nL 121.214043 176.19903 \nL 121.82399 176.427693 \nL 122.433937 175.787999 \nL 123.653832 175.392337 \nL 124.263779 174.779997 \nL 124.873726 175.427336 \nL 125.483673 175.650544 \nL 126.09362 175.052432 \nL 126.703567 175.274998 \nL 127.313515 174.690797 \nL 129.753303 175.555382 \nL 130.973198 173.678821 \nL 132.803039 174.325572 \nL 134.022933 174.007742 \nL 134.632881 174.215519 \nL 135.242828 174.059997 \nL 136.462722 174.465 \nL 137.072669 175.014419 \nL 138.292564 174.703051 \nL 138.902511 174.894545 \nL 139.512458 174.401052 \nL 140.732352 174.108001 \nL 141.342299 173.631176 \nL 141.952247 172.830221 \nL 143.172141 173.22086 \nL 143.782088 172.764002 \nL 144.392035 172.957023 \nL 145.61193 173.969371 \nL 146.221877 173.834998 \nL 146.831824 174.015313 \nL 147.441771 173.882468 \nL 148.051718 174.368574 \nL 148.661665 174.541622 \nL 149.271613 174.407919 \nL 149.88156 173.973602 \nL 150.491507 173.845428 \nL 151.101454 174.315791 \nL 151.711401 174.187056 \nL 152.321348 174.354548 \nL 152.931296 173.934581 \nL 153.541243 174.392305 \nL 154.15119 174.555289 \nL 154.761137 175.003293 \nL 155.371084 174.589808 \nL 155.981031 173.331001 \nL 156.590979 173.49652 \nL 157.200926 173.1 \nL 159.030767 173.588728 \nL 160.250662 173.361559 \nL 160.860609 172.979998 \nL 161.470556 173.139764 \nL 162.080503 173.030826 \nL 162.69045 172.657896 \nL 163.300397 172.553021 \nL 163.910345 172.973759 \nL 164.520292 172.868275 \nL 165.740186 172.145457 \nL 166.96008 172.458203 \nL 167.570028 172.865362 \nL 168.789922 172.663756 \nL 169.399869 172.813844 \nL 170.009816 172.714423 \nL 171.229711 173.499568 \nL 171.839658 173.154195 \nL 172.449605 173.540211 \nL 173.059552 173.680849 \nL 173.669499 174.059997 \nL 174.279446 173.957684 \nL 174.889394 173.618955 \nL 176.109288 173.892127 \nL 176.719235 173.558967 \nL 177.329182 172.996618 \nL 177.939129 173.365716 \nL 178.549077 173.500812 \nL 179.159024 173.176365 \nL 179.768971 172.399297 \nL 180.378918 172.764002 \nL 180.988865 172.22239 \nL 181.598812 171.910691 \nL 182.20876 172.048963 \nL 183.428654 171.878929 \nL 184.038601 172.015343 \nL 185.258495 172.720385 \nL 185.868443 172.850816 \nL 186.47839 172.764002 \nL 187.088337 172.463036 \nL 187.698284 172.592832 \nL 188.308231 172.508451 \nL 189.528126 173.185956 \nL 190.138073 172.889999 \nL 190.74802 172.805807 \nL 191.357967 172.514311 \nL 191.967914 172.639728 \nL 193.797756 172.396215 \nL 195.01765 173.047501 \nL 195.627597 172.764002 \nL 196.237544 172.884423 \nL 196.847492 172.604141 \nL 199.897227 173.194135 \nL 200.507175 173.114424 \nL 201.117122 173.229228 \nL 201.727069 172.764002 \nL 204.166858 173.219495 \nL 204.776805 173.520001 \nL 205.386752 173.065143 \nL 205.996699 172.988926 \nL 206.606646 172.726664 \nL 207.216593 172.652462 \nL 207.826541 172.764002 \nL 208.436488 172.690246 \nL 209.046435 172.433445 \nL 210.266329 172.654699 \nL 212.096171 172.440001 \nL 213.316065 173.014016 \nL 213.926012 173.119764 \nL 215.145907 172.9758 \nL 215.755854 173.080466 \nL 216.975748 172.589541 \nL 217.585695 172.868275 \nL 218.195642 172.971758 \nL 218.80559 172.901976 \nL 219.415537 173.004547 \nL 220.025484 173.277509 \nL 221.245378 172.79798 \nL 221.855325 172.730152 \nL 222.465273 172.494203 \nL 223.685167 172.362291 \nL 224.905061 172.896921 \nL 225.515008 172.995767 \nL 226.124956 172.599058 \nL 229.784639 173.183699 \nL 230.394586 172.796168 \nL 231.61448 172.987608 \nL 232.224427 172.764002 \nL 232.834374 173.017761 \nL 233.444322 172.637558 \nL 234.054269 172.889999 \nL 235.274163 172.764002 \nL 235.88411 172.857528 \nL 237.104005 172.733038 \nL 237.713952 172.517143 \nL 238.323899 172.456473 \nL 238.933846 172.089727 \nL 240.15374 172.581342 \nL 240.763688 172.521273 \nL 241.983582 172.703723 \nL 242.593529 172.944242 \nL 243.813423 173.122102 \nL 244.423371 173.061446 \nL 245.643265 173.236805 \nL 246.253212 173.029089 \nL 246.863159 173.263105 \nL 247.473106 173.202969 \nL 248.083054 173.434917 \nL 250.522842 173.196 \nL 251.132789 173.424305 \nL 251.742737 173.364986 \nL 252.962631 173.53185 \nL 254.182525 173.131403 \nL 254.792472 172.792174 \nL 255.40242 173.016781 \nL 256.622314 172.903572 \nL 257.232261 173.125766 \nL 257.842208 173.20789 \nL 258.452155 173.427806 \nL 259.062103 173.232763 \nL 260.281997 173.394382 \nL 261.501891 173.826489 \nL 262.111838 173.768982 \nL 263.331733 173.924997 \nL 263.94168 173.867713 \nL 265.771521 174.098119 \nL 266.381469 174.307038 \nL 266.991416 174.24947 \nL 267.601363 174.059997 \nL 268.821257 173.947302 \nL 270.041152 174.097349 \nL 271.261046 173.985728 \nL 271.870993 174.059997 \nL 272.48094 174.004613 \nL 273.090887 174.078409 \nL 273.700835 174.280285 \nL 274.310782 174.224745 \nL 274.920729 174.297298 \nL 275.530676 173.987188 \nL 276.140623 174.059997 \nL 276.75057 173.878994 \nL 277.360518 174.078051 \nL 278.580412 173.970249 \nL 280.410253 174.184616 \nL 281.020201 174.131016 \nL 282.850042 173.602172 \nL 283.459989 173.673657 \nL 284.069936 173.867354 \nL 284.679884 173.693205 \nL 285.289831 173.641936 \nL 286.509725 173.782784 \nL 287.119672 173.731678 \nL 287.729619 173.560211 \nL 288.949514 173.699998 \nL 289.559461 173.889024 \nL 290.169408 173.71895 \nL 291.389302 173.618955 \nL 291.99925 173.450915 \nL 293.219144 173.588728 \nL 294.439038 173.4907 \nL 295.048985 173.675874 \nL 295.658933 173.510281 \nL 296.26888 172.996618 \nL 297.488774 173.365716 \nL 298.098721 173.202597 \nL 300.53851 173.472396 \nL 301.148457 173.083115 \nL 301.758404 173.264214 \nL 302.978299 172.944985 \nL 304.198193 173.191715 \nL 304.80814 173.145746 \nL 305.418087 173.211999 \nL 306.637982 172.897738 \nL 307.247929 173.075295 \nL 308.467823 172.874636 \nL 309.07777 172.940585 \nL 309.687717 172.675923 \nL 310.297665 172.742034 \nL 310.907612 172.369564 \nL 312.737453 172.350645 \nL 313.957348 172.590784 \nL 315.177242 172.613157 \nL 315.787189 172.785496 \nL 316.397136 172.742555 \nL 317.617031 172.977456 \nL 319.446872 172.636821 \nL 322.496608 172.533534 \nL 326.156291 172.908655 \nL 326.766238 172.660911 \nL 327.376185 172.619998 \nL 327.986132 172.2714 \nL 328.59608 172.231555 \nL 329.815974 172.458203 \nL 330.425921 172.214799 \nL 332.86571 172.360797 \nL 340.795023 171.960648 \nL 343.234812 172.492033 \nL 348.724336 172.916468 \nL 349.944231 172.745022 \nL 350.554178 172.80188 \nL 351.774072 172.631975 \nL 354.213861 172.764002 \nL 356.653649 172.522821 \nL 357.263597 172.393714 \nL 357.873544 172.542281 \nL 358.483491 172.41366 \nL 359.703385 172.433445 \nL 360.313332 172.305818 \nL 361.533227 172.508451 \nL 363.363068 172.67328 \nL 363.363068 172.67328 \n\" clip-path=\"url(#p4a38ea2118)\" style=\"fill: none; stroke: #1f77b4; stroke-width: 1.5; stroke-linecap: square\"/>\n   </g>\n   <g id=\"line2d_14\">\n    <path d=\"M 58.999432 245.34 \nL 59.609379 199.979999 \nL 60.219326 199.979999 \nL 60.829273 188.64 \nL 61.43922 199.979999 \nL 62.049168 199.979999 \nL 62.659115 180.539997 \nL 63.269062 177.299997 \nL 63.879009 174.779997 \nL 64.488956 159.156001 \nL 65.098903 162.86727 \nL 65.708851 169.739998 \nL 66.318798 172.066151 \nL 66.928745 170.819998 \nL 67.538692 175.787999 \nL 68.148639 174.465 \nL 68.758586 170.629409 \nL 69.368534 172.259998 \nL 69.978481 176.106315 \nL 70.588428 172.764002 \nL 71.808322 171.114549 \nL 72.418269 172.369564 \nL 73.028217 171.630003 \nL 74.248111 173.810767 \nL 74.858058 173.1 \nL 75.468005 174.059997 \nL 76.077952 170.26138 \nL 76.6879 171.252003 \nL 77.297847 166.325807 \nL 77.907794 163.124997 \nL 78.517741 161.492726 \nL 79.127688 163.958822 \nL 79.737635 164.987999 \nL 80.347583 164.699998 \nL 82.177424 167.413844 \nL 83.397319 169.002437 \nL 84.617213 164.113951 \nL 85.22716 163.898185 \nL 85.837107 165.707999 \nL 87.057002 167.166384 \nL 87.666949 168.794999 \nL 88.886843 168.227999 \nL 89.49679 168.850586 \nL 90.716685 166.601886 \nL 91.326632 164.699998 \nL 92.546526 165.960001 \nL 93.156473 167.352633 \nL 93.76642 167.133102 \nL 94.376368 165.38339 \nL 94.986315 164.448003 \nL 95.596262 165.774097 \nL 96.816156 165.419998 \nL 98.036051 166.483384 \nL 98.645998 166.303637 \nL 99.255945 166.806269 \nL 99.865892 166.627057 \nL 100.475839 167.110432 \nL 101.085786 166.932003 \nL 101.695734 168.036336 \nL 102.915628 167.668766 \nL 103.525575 166.879458 \nL 104.135522 167.925601 \nL 104.745469 168.347366 \nL 105.355417 167.579998 \nL 105.965364 166.250767 \nL 107.185258 167.094 \nL 107.795205 166.939999 \nL 109.0151 167.736141 \nL 110.234994 166.360239 \nL 110.844941 167.278607 \nL 112.064835 166.990909 \nL 112.674783 167.871237 \nL 113.28473 168.227999 \nL 113.894677 168.078459 \nL 114.504624 168.918259 \nL 115.114571 168.764515 \nL 115.724518 168.131492 \nL 116.944413 168.794999 \nL 117.55436 168.181239 \nL 119.384201 169.135201 \nL 120.604096 167.961174 \nL 121.214043 168.712429 \nL 122.433937 169.307999 \nL 123.043884 168.741507 \nL 124.263779 168.480001 \nL 124.873726 168.768989 \nL 125.483673 168.227999 \nL 126.09362 168.514054 \nL 126.703567 168.390003 \nL 127.313515 168.669555 \nL 127.923462 168.546315 \nL 128.533409 167.636349 \nL 129.143356 167.133102 \nL 130.36325 166.92102 \nL 130.973198 167.579998 \nL 131.583145 167.85 \nL 132.193092 167.740663 \nL 132.803039 166.517707 \nL 133.412986 166.789757 \nL 134.022933 166.691614 \nL 134.632881 167.320797 \nL 135.242828 167.219998 \nL 136.462722 166.314378 \nL 138.292564 167.085342 \nL 138.902511 166.990909 \nL 139.512458 167.579998 \nL 140.122405 167.483281 \nL 140.732352 168.06 \nL 141.342299 168.294705 \nL 142.562194 168.09652 \nL 143.172141 168.325899 \nL 143.782088 168.876001 \nL 144.392035 168.131492 \nL 145.001982 168.036336 \nL 145.61193 168.576921 \nL 146.831824 168.384413 \nL 147.441771 168.911506 \nL 148.051718 169.122859 \nL 148.661665 169.63784 \nL 149.271613 169.232614 \nL 150.491507 169.039072 \nL 151.101454 168.048949 \nL 151.711401 168.554115 \nL 152.321348 168.758181 \nL 153.541243 167.995382 \nL 154.15119 168.199111 \nL 155.981031 167.944499 \nL 156.590979 167.01652 \nL 157.200926 167.219998 \nL 157.810873 166.307855 \nL 158.42082 166.513172 \nL 159.640714 165.823372 \nL 161.470556 166.429703 \nL 163.300397 167.806045 \nL 163.910345 167.467627 \nL 165.130239 167.320797 \nL 165.740186 167.506364 \nL 166.350133 167.433561 \nL 166.96008 167.106741 \nL 167.570028 167.290388 \nL 168.179975 167.724002 \nL 168.789922 167.902207 \nL 170.009816 167.757047 \nL 170.619763 167.932171 \nL 171.229711 167.860219 \nL 172.449605 168.68888 \nL 173.059552 168.855317 \nL 173.669499 168.78 \nL 174.889394 169.106704 \nL 175.499341 169.031252 \nL 176.109288 168.721554 \nL 176.719235 168.648865 \nL 177.329182 169.042154 \nL 177.939129 168.968574 \nL 178.549077 169.125988 \nL 179.159024 169.510909 \nL 179.768971 169.664018 \nL 180.378918 169.361998 \nL 181.598812 170.11426 \nL 182.20876 169.591032 \nL 182.818707 169.962354 \nL 184.648548 170.397394 \nL 185.258495 169.885387 \nL 186.47839 169.739998 \nL 187.088337 169.453362 \nL 188.308231 169.314082 \nL 188.918178 168.821495 \nL 190.74802 167.998066 \nL 191.357967 167.936699 \nL 191.967914 167.668766 \nL 192.577861 168.021818 \nL 193.797756 168.309731 \nL 194.407703 167.841524 \nL 195.01765 168.187498 \nL 195.627597 168.1272 \nL 196.847492 168.80749 \nL 197.457439 168.148424 \nL 198.067386 168.089342 \nL 198.677333 168.227999 \nL 199.897227 168.110687 \nL 200.507175 167.663433 \nL 201.727069 167.93847 \nL 202.337016 168.266439 \nL 202.946963 168.40025 \nL 203.55691 168.723527 \nL 204.166858 168.85431 \nL 204.776805 169.172998 \nL 206.606646 169.553337 \nL 207.216593 169.863934 \nL 207.826541 169.431428 \nL 208.436488 169.739998 \nL 209.656382 169.983868 \nL 210.266329 169.922171 \nL 210.876276 170.042403 \nL 211.486224 170.342388 \nL 212.706118 170.576681 \nL 213.316065 170.513862 \nL 213.926012 170.095766 \nL 216.365801 169.856756 \nL 216.975748 170.147075 \nL 217.585695 169.913796 \nL 218.195642 170.201683 \nL 218.80559 170.142432 \nL 220.635431 170.47895 \nL 221.245378 170.759327 \nL 221.855325 170.699103 \nL 223.07522 171.252003 \nL 223.685167 170.855869 \nL 224.295114 170.962941 \nL 225.515008 171.505837 \nL 227.34485 171.322961 \nL 228.564744 171.853549 \nL 229.174691 171.792 \nL 231.004533 172.090816 \nL 231.61448 171.709862 \nL 232.224427 171.649895 \nL 232.834374 171.748951 \nL 233.444322 171.689267 \nL 234.054269 171.314998 \nL 236.494057 171.086302 \nL 237.104005 170.875288 \nL 238.323899 170.765086 \nL 238.933846 170.863784 \nL 240.15374 170.754765 \nL 240.763688 170.852509 \nL 241.373635 170.6472 \nL 241.983582 170.895349 \nL 242.593529 170.991653 \nL 243.203476 170.937621 \nL 243.813423 171.033155 \nL 244.423371 171.276789 \nL 245.033318 171.222351 \nL 245.643265 171.463781 \nL 246.863159 171.648347 \nL 247.473106 171.593422 \nL 248.693001 172.066151 \nL 249.302948 171.865492 \nL 250.522842 172.332003 \nL 251.132789 172.419494 \nL 251.742737 172.363345 \nL 252.352684 172.164903 \nL 252.962631 172.252103 \nL 253.572578 172.197002 \nL 254.182525 172.283553 \nL 255.40242 172.174176 \nL 256.622314 172.345292 \nL 257.232261 172.290921 \nL 257.842208 171.959451 \nL 258.452155 171.768295 \nL 259.062103 171.854042 \nL 260.281997 172.298065 \nL 260.891944 171.834941 \nL 261.501891 171.647029 \nL 262.721786 171.816177 \nL 263.331733 172.034998 \nL 263.94168 171.983325 \nL 264.551627 172.066151 \nL 265.161574 171.880883 \nL 265.771521 171.830115 \nL 266.381469 171.380589 \nL 266.991416 171.331579 \nL 268.21131 171.498138 \nL 269.431204 171.924973 \nL 270.041152 171.875104 \nL 270.651099 171.695175 \nL 271.261046 171.906189 \nL 271.870993 171.7272 \nL 273.090887 171.88773 \nL 273.700835 171.58181 \nL 275.530676 171.438874 \nL 276.140623 171.264704 \nL 276.75057 171.344915 \nL 277.360518 171.171975 \nL 277.970465 171.125999 \nL 278.580412 171.205926 \nL 279.190359 170.909503 \nL 279.800306 170.864628 \nL 280.410253 170.944616 \nL 281.630148 171.351147 \nL 282.240095 171.429154 \nL 282.850042 171.383476 \nL 283.459989 171.215125 \nL 284.069936 170.925082 \nL 285.289831 171.325164 \nL 285.899778 171.401982 \nL 286.509725 171.357115 \nL 287.729619 171.026808 \nL 288.339567 170.983292 \nL 288.949514 171.060002 \nL 289.559461 171.255991 \nL 290.169408 171.331579 \nL 290.779355 171.168663 \nL 291.99925 171.082247 \nL 292.609197 171.275626 \nL 293.219144 171.232361 \nL 293.829091 170.954302 \nL 295.048985 170.870103 \nL 296.26888 171.019386 \nL 296.878827 170.977446 \nL 297.488774 171.167142 \nL 298.708668 171.083146 \nL 299.928563 171.343637 \nL 300.53851 171.301514 \nL 301.148457 171.48754 \nL 301.758404 171.331579 \nL 302.368351 171.403199 \nL 302.978299 171.13511 \nL 303.588246 171.206865 \nL 304.198193 171.165709 \nL 306.637982 171.448898 \nL 307.247929 171.296472 \nL 308.467823 171.436393 \nL 309.07777 171.285109 \nL 310.297665 171.533901 \nL 311.517559 171.780286 \nL 313.3474 171.765646 \nL 314.567295 172.008002 \nL 315.787189 172.033079 \nL 316.397136 172.206384 \nL 319.446872 172.106916 \nL 320.056819 172.171885 \nL 320.666766 172.025583 \nL 324.326449 172.410274 \nL 325.546344 172.225479 \nL 327.986132 172.374025 \nL 329.206027 172.396215 \nL 329.815974 172.560132 \nL 330.425921 172.418209 \nL 331.035868 172.479867 \nL 331.645815 172.338749 \nL 332.86571 172.562403 \nL 334.085604 172.583363 \nL 334.695551 172.643844 \nL 335.305498 172.304405 \nL 336.525393 172.127369 \nL 339.575129 172.331063 \nL 341.40497 172.21655 \nL 342.014917 171.983615 \nL 342.624865 171.946352 \nL 343.234812 172.103509 \nL 343.844759 171.969232 \nL 344.454706 172.125673 \nL 345.064653 171.991916 \nL 347.504442 172.132405 \nL 348.724336 172.154115 \nL 352.993966 172.463476 \nL 353.603914 172.332895 \nL 354.823808 172.446666 \nL 355.433755 172.223775 \nL 356.653649 172.059021 \nL 357.263597 171.93086 \nL 357.873544 171.987982 \nL 358.483491 171.86049 \nL 360.313332 171.939275 \nL 362.143174 171.561688 \nL 363.363068 171.766078 \nL 363.363068 171.766078 \n\" clip-path=\"url(#p4a38ea2118)\" style=\"fill: none; stroke: #ff7f0e; stroke-width: 1.5; stroke-linecap: square\"/>\n   </g>\n   <g id=\"line2d_15\">\n    <path d=\"M 58.999432 245.34 \nL 60.219326 199.979999 \nL 60.829273 188.64 \nL 61.43922 190.908001 \nL 62.049168 177.299997 \nL 62.659115 174.059997 \nL 63.269062 177.299997 \nL 63.879009 179.819997 \nL 65.098903 175.238181 \nL 65.708851 173.520001 \nL 66.318798 175.555382 \nL 66.928745 180.539997 \nL 67.538692 178.812003 \nL 68.758586 181.30235 \nL 69.368534 177.299997 \nL 69.978481 171.331579 \nL 71.198375 174.059997 \nL 71.808322 177.299997 \nL 72.418269 178.286085 \nL 73.028217 181.08 \nL 73.638164 176.392802 \nL 74.248111 175.555382 \nL 74.858058 178.139999 \nL 75.468005 178.920001 \nL 76.077952 181.210344 \nL 76.6879 178.812003 \nL 77.907794 180.135001 \nL 79.127688 178.634115 \nL 79.737635 179.244001 \nL 80.347583 174.779997 \nL 80.95753 173.00919 \nL 81.567477 172.525261 \nL 82.177424 168.576921 \nL 82.787371 170.495997 \nL 83.397319 169.002437 \nL 84.007266 170.819998 \nL 85.22716 170.083634 \nL 85.837107 171.756 \nL 86.447054 170.397394 \nL 87.057002 171.991916 \nL 88.886843 173.671197 \nL 89.49679 172.408233 \nL 90.106737 173.810767 \nL 91.326632 174.779997 \nL 91.936579 173.588728 \nL 93.156473 174.514734 \nL 94.376368 173.840338 \nL 94.986315 175.031999 \nL 95.596262 174.69738 \nL 96.206209 175.105161 \nL 96.816156 176.219997 \nL 97.426103 175.882499 \nL 98.036051 176.951076 \nL 98.645998 177.299997 \nL 99.255945 176.961491 \nL 99.865892 177.967059 \nL 100.475839 178.286085 \nL 101.085786 177.947999 \nL 101.695734 178.258312 \nL 102.305681 179.190002 \nL 103.525575 179.751892 \nL 104.135522 178.812003 \nL 104.745469 178.493686 \nL 105.355417 178.772725 \nL 105.965364 179.626151 \nL 106.575311 179.309619 \nL 107.185258 177.299997 \nL 107.795205 177.580003 \nL 108.405152 176.746827 \nL 110.234994 175.96588 \nL 110.844941 175.190232 \nL 111.454888 175.475171 \nL 112.064835 174.207273 \nL 112.674783 174.496856 \nL 113.28473 174.276 \nL 113.894677 173.561536 \nL 114.504624 173.355652 \nL 116.334466 174.196418 \nL 117.55436 173.792781 \nL 118.164307 174.059997 \nL 118.774254 173.405453 \nL 119.384201 173.217603 \nL 119.994149 173.931681 \nL 120.604096 173.74235 \nL 121.82399 172.502307 \nL 122.433937 172.332003 \nL 123.043884 173.020755 \nL 123.653832 172.848782 \nL 124.263779 173.520001 \nL 124.873726 172.514311 \nL 125.483673 171.939275 \nL 126.09362 172.191892 \nL 127.313515 171.880883 \nL 130.973198 173.297645 \nL 131.583145 172.386002 \nL 132.193092 172.239173 \nL 132.803039 172.838359 \nL 133.412986 173.059026 \nL 134.022933 173.641936 \nL 134.632881 173.85264 \nL 135.242828 173.339998 \nL 135.852775 173.1926 \nL 136.462722 173.756247 \nL 137.072669 172.553021 \nL 137.682616 172.41508 \nL 138.292564 171.932976 \nL 138.902511 172.145457 \nL 139.512458 172.013687 \nL 140.122405 172.22239 \nL 140.732352 172.764002 \nL 142.562194 173.355652 \nL 143.172141 173.873526 \nL 143.782088 174.059997 \nL 144.392035 173.600428 \nL 145.001982 174.105635 \nL 145.61193 173.334962 \nL 146.831824 173.702485 \nL 148.051718 172.825713 \nL 148.661665 172.702703 \nL 149.88156 173.0664 \nL 150.491507 172.643844 \nL 151.101454 172.525261 \nL 152.321348 172.881821 \nL 152.931296 173.349291 \nL 154.15119 172.532865 \nL 154.761137 171.271138 \nL 155.371084 171.166412 \nL 155.981031 171.630003 \nL 156.590979 171.806086 \nL 157.200926 171.700001 \nL 158.42082 170.93854 \nL 159.030767 171.389457 \nL 159.640714 171.561688 \nL 160.250662 171.460239 \nL 160.860609 171.630003 \nL 161.470556 171.529352 \nL 162.080503 170.629409 \nL 162.69045 170.801052 \nL 163.300397 170.706978 \nL 163.910345 170.876187 \nL 164.520292 170.782761 \nL 165.130239 171.208798 \nL 165.740186 171.114549 \nL 166.350133 171.277627 \nL 166.96008 171.184046 \nL 167.570028 170.838099 \nL 168.179975 169.992 \nL 168.789922 170.15768 \nL 169.399869 170.072305 \nL 171.229711 170.557296 \nL 171.839658 170.227739 \nL 173.669499 170.700002 \nL 174.889394 171.481571 \nL 175.499341 171.39375 \nL 176.109288 171.776893 \nL 176.719235 171.220823 \nL 177.329182 170.903075 \nL 177.939129 169.894282 \nL 178.549077 170.047006 \nL 179.159024 169.739998 \nL 180.378918 170.495997 \nL 181.598812 170.787919 \nL 182.20876 171.155171 \nL 182.818707 170.851766 \nL 183.428654 170.772582 \nL 184.648548 171.493042 \nL 185.258495 171.411925 \nL 187.088337 171.818104 \nL 187.698284 171.73698 \nL 188.308231 171.443659 \nL 189.528126 171.709119 \nL 190.138073 171.630003 \nL 190.74802 171.760644 \nL 191.357967 171.265873 \nL 192.577861 171.939275 \nL 193.187809 172.066151 \nL 194.407703 171.909684 \nL 195.01765 171.427498 \nL 195.627597 171.554401 \nL 196.237544 171.479469 \nL 198.067386 171.852839 \nL 198.677333 171.383476 \nL 199.28728 171.50727 \nL 199.897227 171.43448 \nL 200.507175 171.751674 \nL 201.117122 171.872305 \nL 201.727069 171.798894 \nL 202.337016 171.341697 \nL 202.946963 171.462531 \nL 203.55691 171.391762 \nL 204.166858 170.942007 \nL 204.776805 171.063003 \nL 205.386752 170.994769 \nL 205.996699 171.114549 \nL 206.606646 171.046666 \nL 207.216593 170.793441 \nL 208.436488 170.661948 \nL 209.046435 170.780646 \nL 209.656382 170.715481 \nL 210.266329 170.286503 \nL 210.876276 170.586719 \nL 211.486224 170.342388 \nL 212.096171 170.280001 \nL 212.706118 170.397394 \nL 213.316065 170.156694 \nL 213.926012 170.451528 \nL 214.535959 170.566874 \nL 215.145907 170.504824 \nL 215.755854 170.267443 \nL 216.365801 170.382159 \nL 216.975748 170.321536 \nL 217.585695 170.435171 \nL 218.195642 169.855417 \nL 219.415537 170.083634 \nL 220.025484 169.682944 \nL 220.635431 169.967369 \nL 221.855325 169.852835 \nL 222.465273 169.627586 \nL 223.685167 169.516824 \nL 224.295114 169.628823 \nL 224.905061 169.40769 \nL 225.515008 169.51927 \nL 226.124956 169.465089 \nL 226.734903 169.739998 \nL 227.34485 169.685417 \nL 227.954797 169.794389 \nL 229.174691 169.685999 \nL 229.784639 169.30954 \nL 230.394586 169.418295 \nL 231.61448 169.314082 \nL 232.224427 169.421682 \nL 232.834374 169.052726 \nL 235.88411 168.804745 \nL 237.713952 169.122859 \nL 238.933846 169.63784 \nL 240.15374 169.232614 \nL 240.763688 169.335455 \nL 241.373635 169.286397 \nL 242.593529 168.888877 \nL 243.203476 168.991488 \nL 243.813423 168.794999 \nL 244.423371 168.748523 \nL 246.253212 168.169093 \nL 246.863159 168.272042 \nL 247.473106 168.081677 \nL 248.083054 168.038391 \nL 248.693001 168.140772 \nL 249.302948 168.097574 \nL 252.352684 168.598868 \nL 252.962631 168.412856 \nL 253.572578 168.369752 \nL 254.182525 168.609534 \nL 254.792472 168.706954 \nL 256.012367 168.619997 \nL 256.622314 168.437351 \nL 257.232261 167.977545 \nL 257.842208 168.214129 \nL 258.452155 168.03439 \nL 259.67205 167.95309 \nL 260.281997 167.77577 \nL 263.331733 167.579998 \nL 263.94168 167.810742 \nL 265.771521 167.694356 \nL 266.381469 167.922052 \nL 269.431204 168.385319 \nL 270.041152 168.607087 \nL 270.651099 168.566897 \nL 271.261046 168.786874 \nL 271.870993 168.876001 \nL 272.48094 169.093848 \nL 273.090887 168.923862 \nL 274.310782 169.099323 \nL 274.920729 168.802988 \nL 275.530676 169.017977 \nL 276.140623 168.850586 \nL 279.190359 169.28055 \nL 279.800306 169.115207 \nL 280.410253 169.200001 \nL 281.020201 169.03578 \nL 281.630148 168.996395 \nL 282.240095 169.080817 \nL 282.850042 169.288046 \nL 283.459989 169.371218 \nL 284.069936 169.208754 \nL 284.679884 169.291696 \nL 285.289831 169.130321 \nL 286.509725 169.295292 \nL 287.119672 169.135201 \nL 287.729619 169.096593 \nL 288.339567 169.178514 \nL 288.949514 169.379998 \nL 289.559461 169.460736 \nL 290.169408 169.660422 \nL 291.389302 169.819161 \nL 291.99925 169.779478 \nL 292.609197 169.858128 \nL 293.219144 169.818546 \nL 294.439038 169.974419 \nL 295.048985 169.817938 \nL 295.658933 170.012081 \nL 296.26888 170.088926 \nL 296.878827 169.93335 \nL 297.488774 169.894282 \nL 301.758404 170.422106 \nL 302.368351 170.382598 \nL 302.978299 170.569523 \nL 303.588246 170.191341 \nL 304.198193 170.37782 \nL 304.80814 170.338813 \nL 305.418087 170.188002 \nL 306.028034 170.26138 \nL 306.637982 170.00005 \nL 308.467823 169.88751 \nL 309.687717 170.033589 \nL 310.297665 169.886442 \nL 313.3474 170.246415 \nL 314.567295 170.280001 \nL 315.787189 170.528245 \nL 317.007083 170.346227 \nL 318.836925 170.554423 \nL 319.446872 170.411217 \nL 322.496608 170.647896 \nL 323.106555 170.61097 \nL 323.716502 170.365653 \nL 328.59608 170.798057 \nL 329.815974 170.623414 \nL 331.645815 171.123748 \nL 332.255763 171.086992 \nL 332.86571 170.848798 \nL 334.085604 170.877342 \nL 334.695551 170.741328 \nL 335.915446 170.969537 \nL 342.014917 171.495874 \nL 344.454706 170.965076 \nL 345.6746 171.088283 \nL 346.284548 170.861188 \nL 346.894495 170.826851 \nL 347.504442 170.601264 \nL 349.334283 170.690945 \nL 351.164125 170.590497 \nL 351.774072 170.274384 \nL 354.213861 170.051751 \nL 355.433755 169.802094 \nL 360.313332 170.198181 \nL 360.92328 170.166772 \nL 362.143174 170.37759 \nL 362.753121 170.346011 \nL 363.363068 170.133118 \nL 363.363068 170.133118 \n\" clip-path=\"url(#p4a38ea2118)\" style=\"fill: none; stroke: #2ca02c; stroke-width: 1.5; stroke-linecap: square\"/>\n   </g>\n   <g id=\"line2d_16\">\n    <path d=\"M 58.999432 18.54 \nL 59.609379 86.580003 \nL 60.219326 94.139995 \nL 60.829273 97.920005 \nL 61.43922 100.188003 \nL 62.049168 116.820001 \nL 62.659115 128.699993 \nL 63.269062 120.599997 \nL 63.879009 124.379994 \nL 64.488956 136.476002 \nL 65.098903 138.125455 \nL 65.708851 135.720003 \nL 66.928745 138.42 \nL 68.148639 134.774997 \nL 68.758586 138.610588 \nL 69.368534 136.98 \nL 70.588428 138.744 \nL 71.808322 144.310911 \nL 72.418269 142.786955 \nL 73.638164 143.733597 \nL 74.248111 140.663076 \nL 74.858058 141.179997 \nL 75.468005 140.040003 \nL 76.077952 142.106895 \nL 76.6879 142.523997 \nL 77.297847 145.840645 \nL 78.517741 149.121815 \nL 79.737635 149.436002 \nL 80.347583 152.099999 \nL 80.95753 153.394055 \nL 81.567477 152.232634 \nL 82.177424 152.293845 \nL 82.787371 151.218002 \nL 83.397319 152.407318 \nL 84.007266 154.619999 \nL 85.22716 156.681815 \nL 85.837107 156.636001 \nL 86.447054 155.606087 \nL 88.276896 155.545714 \nL 88.886843 157.341597 \nL 89.49679 158.177645 \nL 90.106737 158.109229 \nL 90.716685 157.187549 \nL 91.326632 157.980001 \nL 92.546526 157.859998 \nL 93.156473 156.21158 \nL 93.76642 155.402068 \nL 94.376368 156.157628 \nL 94.986315 157.644003 \nL 95.596262 157.594424 \nL 96.816156 160.379998 \nL 97.426103 160.998753 \nL 98.036051 162.29631 \nL 99.255945 162.067167 \nL 99.865892 160.623531 \nL 100.475839 161.19391 \nL 101.085786 161.099998 \nL 101.695734 160.36986 \nL 102.305681 161.550003 \nL 102.915628 161.455071 \nL 103.525575 160.749731 \nL 104.135522 161.272803 \nL 104.745469 161.185265 \nL 105.965364 162.179998 \nL 106.575311 162.084302 \nL 107.185258 162.557998 \nL 108.405152 162.364388 \nL 109.0151 161.178073 \nL 109.625047 161.640002 \nL 110.234994 161.023762 \nL 110.844941 160.949303 \nL 111.454888 161.397929 \nL 112.064835 162.351816 \nL 114.504624 163.987825 \nL 115.724518 163.788511 \nL 116.334466 164.169471 \nL 116.944413 164.070003 \nL 118.164307 165.728574 \nL 118.774254 166.074542 \nL 120.604096 165.737645 \nL 121.214043 166.070095 \nL 121.82399 165.523846 \nL 122.433937 165.419998 \nL 123.043884 165.74604 \nL 124.873726 165.439816 \nL 125.483673 165.75382 \nL 127.313515 165.458228 \nL 127.923462 164.56737 \nL 129.143356 164.395863 \nL 130.36325 164.998983 \nL 130.973198 165.674116 \nL 133.412986 166.789757 \nL 134.022933 166.691614 \nL 134.632881 165.86928 \nL 135.852775 166.406458 \nL 136.462722 165.251249 \nL 137.072669 165.520466 \nL 137.682616 166.134462 \nL 138.292564 166.392825 \nL 138.902511 166.303637 \nL 139.512458 166.556843 \nL 140.122405 166.467763 \nL 142.562194 167.43913 \nL 143.172141 166.694243 \nL 143.782088 166.284002 \nL 144.392035 166.522979 \nL 145.001982 165.800282 \nL 145.61193 166.0393 \nL 146.221877 166.590003 \nL 147.441771 166.426026 \nL 148.051718 166.037144 \nL 151.101454 167.153684 \nL 151.711401 166.775292 \nL 152.321348 166.10727 \nL 153.541243 165.960001 \nL 154.15119 166.176687 \nL 154.761137 166.677723 \nL 157.200926 167.500003 \nL 157.810873 167.977545 \nL 159.030767 168.365454 \nL 159.640714 168.282654 \nL 160.250662 168.472458 \nL 161.470556 168.308521 \nL 162.080503 168.494824 \nL 162.69045 167.617897 \nL 163.300397 167.278607 \nL 163.910345 167.467627 \nL 164.520292 167.133102 \nL 165.130239 167.320797 \nL 165.740186 167.764091 \nL 166.96008 167.616403 \nL 167.570028 168.050612 \nL 168.789922 167.902207 \nL 170.009816 168.252785 \nL 170.619763 167.68565 \nL 171.229711 167.369835 \nL 171.839658 167.30129 \nL 172.449605 167.476042 \nL 173.059552 166.925109 \nL 174.279446 166.795576 \nL 174.889394 166.969321 \nL 175.499341 166.905 \nL 176.109288 166.60632 \nL 176.719235 167.012167 \nL 177.329182 167.181234 \nL 177.939129 167.579998 \nL 178.549077 167.514211 \nL 179.159024 167.678182 \nL 179.768971 167.612564 \nL 180.378918 167.774398 \nL 180.988865 168.160299 \nL 181.598812 168.093269 \nL 182.20876 167.579998 \nL 182.818707 167.516468 \nL 184.038601 167.831648 \nL 184.648548 167.110432 \nL 185.258495 167.268461 \nL 186.47839 168.012003 \nL 187.088337 168.16351 \nL 187.698284 168.099622 \nL 188.308231 168.249297 \nL 188.918178 168.185606 \nL 191.357967 168.768989 \nL 191.967914 168.704385 \nL 192.577861 168.434181 \nL 193.797756 168.718377 \nL 194.407703 169.061972 \nL 195.627597 168.933602 \nL 196.237544 168.669555 \nL 197.457439 168.944207 \nL 198.067386 168.683581 \nL 199.28728 168.954549 \nL 199.897227 168.892756 \nL 200.507175 169.22086 \nL 202.337016 169.035253 \nL 203.55691 168.151763 \nL 205.386752 168.547965 \nL 205.996699 168.302972 \nL 206.606646 168.433336 \nL 207.826541 169.061141 \nL 209.046435 169.3115 \nL 209.656382 169.252256 \nL 210.266329 169.557831 \nL 210.876276 169.49808 \nL 212.096171 169.739998 \nL 212.706118 169.68024 \nL 214.535959 168.97219 \nL 215.145907 169.269337 \nL 215.755854 169.21256 \nL 216.365801 169.506489 \nL 216.975748 169.623693 \nL 217.585695 169.392414 \nL 218.80559 169.625018 \nL 219.415537 169.224544 \nL 220.025484 169.169436 \nL 223.07522 169.739998 \nL 223.685167 170.018969 \nL 224.905061 169.241536 \nL 225.515008 168.691536 \nL 226.124956 168.970257 \nL 226.734903 168.75391 \nL 227.34485 168.702885 \nL 228.564744 167.95161 \nL 229.174691 167.742002 \nL 230.394586 167.970637 \nL 231.004533 167.923465 \nL 231.61448 168.196055 \nL 232.834374 168.101116 \nL 233.444322 168.370246 \nL 234.054269 168.164997 \nL 234.664216 168.275084 \nL 236.494057 168.134797 \nL 237.104005 168.243484 \nL 237.713952 168.197144 \nL 238.323899 168.304885 \nL 238.933846 167.952164 \nL 239.543793 167.90727 \nL 240.15374 168.167113 \nL 240.763688 168.121806 \nL 241.373635 168.227999 \nL 243.203476 168.093269 \nL 243.813423 167.899733 \nL 244.423371 167.856198 \nL 245.033318 168.10941 \nL 245.643265 168.213224 \nL 246.863159 168.12524 \nL 247.473106 168.227999 \nL 248.083054 168.184247 \nL 248.693001 167.995382 \nL 249.302948 168.242491 \nL 249.912895 168.199111 \nL 250.522842 168.299998 \nL 251.132789 168.113168 \nL 251.742737 168.21369 \nL 252.352684 168.170945 \nL 252.962631 168.270656 \nL 254.182525 168.185606 \nL 255.40242 168.38248 \nL 256.012367 168.06 \nL 256.622314 167.879077 \nL 257.232261 168.116689 \nL 258.452155 168.310975 \nL 260.281997 168.18689 \nL 261.501891 168.377836 \nL 262.111838 168.336646 \nL 262.721786 168.566505 \nL 263.331733 168.659998 \nL 263.94168 168.618341 \nL 265.771521 168.895061 \nL 266.991416 168.546315 \nL 267.601363 168.637956 \nL 268.821257 168.293739 \nL 270.651099 168.566897 \nL 271.261046 168.266993 \nL 271.870993 168.098399 \nL 272.48094 168.189229 \nL 273.700835 168.11235 \nL 274.920729 168.547437 \nL 277.360518 168.897657 \nL 277.970465 168.732003 \nL 279.190359 168.904639 \nL 279.800306 169.115207 \nL 281.020201 169.03578 \nL 281.630148 169.24426 \nL 282.240095 169.328013 \nL 283.459989 169.002437 \nL 284.679884 168.924903 \nL 285.289831 168.642579 \nL 286.509725 168.325027 \nL 287.119672 168.409442 \nL 287.729619 168.614042 \nL 288.339567 168.456608 \nL 288.949514 168.540002 \nL 290.169408 168.46674 \nL 290.779355 168.31134 \nL 291.99925 168.476709 \nL 292.609197 168.322499 \nL 293.829091 168.486531 \nL 295.658933 168.379587 \nL 297.488774 168.62143 \nL 298.098721 168.585802 \nL 298.708668 168.665479 \nL 299.318616 168.629926 \nL 299.928563 168.70909 \nL 300.53851 168.559347 \nL 301.148457 168.75226 \nL 301.758404 168.60316 \nL 302.368351 168.6816 \nL 303.588246 168.950149 \nL 304.198193 168.914589 \nL 304.80814 168.991488 \nL 305.418087 168.956002 \nL 306.637982 169.2199 \nL 307.857876 169.592127 \nL 309.07777 169.408907 \nL 310.297665 169.447116 \nL 311.517559 169.375665 \nL 312.127506 169.558271 \nL 317.007083 169.276414 \nL 320.056819 169.52853 \nL 321.276714 169.354103 \nL 321.886661 169.425 \nL 323.106555 169.252256 \nL 323.716502 169.42717 \nL 324.326449 169.185138 \nL 325.546344 169.429313 \nL 327.376185 169.431428 \nL 329.206027 169.842163 \nL 329.815974 169.706019 \nL 330.425921 169.875607 \nL 332.255763 169.571627 \nL 332.86571 169.739998 \nL 334.695551 169.739998 \nL 335.305498 169.906517 \nL 339.575129 169.7728 \nL 340.795023 169.805312 \nL 341.40497 169.674826 \nL 342.624865 169.902231 \nL 343.234812 169.772374 \nL 343.844759 169.933844 \nL 344.454706 169.80448 \nL 345.6746 169.836302 \nL 346.284548 169.804068 \nL 346.894495 169.484271 \nL 347.504442 169.644301 \nL 348.114389 169.612675 \nL 348.724336 169.771766 \nL 350.554178 169.771563 \nL 351.164125 169.928998 \nL 351.774072 169.802872 \nL 356.653649 170.389324 \nL 357.263597 170.542284 \nL 359.093438 170.26138 \nL 359.703385 170.22972 \nL 360.313332 170.381456 \nL 362.143174 170.104337 \nL 362.753121 170.073306 \nL 363.363068 170.223839 \nL 363.363068 170.223839 \n\" clip-path=\"url(#p4a38ea2118)\" style=\"fill: none; stroke: #d62728; stroke-width: 1.5; stroke-linecap: square\"/>\n   </g>\n   <g id=\"line2d_17\">\n    <path d=\"M 58.999432 245.34 \nL 59.609379 199.979999 \nL 60.219326 169.739998 \nL 60.829273 188.64 \nL 61.43922 172.764002 \nL 62.049168 177.299997 \nL 62.659115 187.019997 \nL 63.269062 194.310001 \nL 63.879009 189.9 \nL 64.488956 181.836 \nL 65.098903 179.36182 \nL 66.318798 182.533843 \nL 66.928745 174.059997 \nL 68.148639 171.630003 \nL 68.758586 170.629409 \nL 69.978481 178.493686 \nL 70.588428 179.568002 \nL 71.808322 177.299997 \nL 73.028217 171.630003 \nL 73.638164 170.949598 \nL 74.248111 172.066151 \nL 74.858058 171.420002 \nL 75.468005 174.059997 \nL 76.077952 173.389657 \nL 76.6879 171.252003 \nL 77.297847 170.715481 \nL 78.517741 175.238181 \nL 79.737635 174.059997 \nL 80.347583 174.779997 \nL 80.95753 174.235134 \nL 82.177424 175.555382 \nL 82.787371 173.898001 \nL 83.397319 171.215125 \nL 84.007266 170.819998 \nL 84.617213 169.388372 \nL 85.22716 171.114549 \nL 85.837107 170.747999 \nL 86.447054 172.369564 \nL 87.057002 169.096593 \nL 87.666949 166.905 \nL 88.276896 165.728574 \nL 88.886843 166.413602 \nL 91.936579 165.341456 \nL 92.546526 163.53 \nL 93.156473 163.373687 \nL 94.376368 164.614576 \nL 95.596262 162.799672 \nL 99.255945 162.067167 \nL 99.865892 163.291766 \nL 100.475839 163.166086 \nL 101.085786 164.339998 \nL 101.695734 163.564228 \nL 102.305681 161.550003 \nL 102.915628 162.076441 \nL 103.525575 161.3627 \nL 104.135522 159.458399 \nL 104.745469 159.991576 \nL 105.355417 159.921821 \nL 105.965364 160.435383 \nL 107.185258 160.29 \nL 107.795205 159.659998 \nL 108.405152 160.151707 \nL 109.0151 160.085062 \nL 110.844941 161.476747 \nL 112.064835 161.320908 \nL 112.674783 160.735956 \nL 113.894677 161.59846 \nL 114.504624 160.04348 \nL 115.114571 160.960645 \nL 116.944413 160.7625 \nL 118.774254 161.95091 \nL 119.994149 161.805743 \nL 122.433937 163.259998 \nL 123.043884 164.034342 \nL 123.653832 164.370279 \nL 124.263779 164.279997 \nL 125.483673 164.929093 \nL 126.09362 164.836216 \nL 126.703567 165.150003 \nL 128.533409 164.875304 \nL 129.143356 165.177932 \nL 129.753303 164.699998 \nL 130.36325 164.998983 \nL 130.973198 164.14941 \nL 131.583145 164.448003 \nL 132.193092 163.617024 \nL 133.412986 163.470729 \nL 134.022933 163.033546 \nL 135.242828 162.899998 \nL 136.462722 163.479374 \nL 137.682616 163.343075 \nL 138.292564 163.622749 \nL 138.902511 163.554542 \nL 139.512458 163.828424 \nL 140.122405 164.436715 \nL 140.732352 164.028002 \nL 141.342299 163.958822 \nL 141.952247 164.221753 \nL 142.562194 163.823476 \nL 143.172141 163.757263 \nL 144.392035 164.271061 \nL 145.001982 164.203098 \nL 145.61193 164.453288 \nL 146.221877 164.385001 \nL 146.831824 163.691997 \nL 147.441771 163.940545 \nL 148.661665 163.814595 \nL 149.271613 164.361742 \nL 149.88156 164.2968 \nL 150.491507 164.833512 \nL 151.101454 164.766319 \nL 151.711401 164.996469 \nL 152.321348 164.929093 \nL 153.541243 165.378463 \nL 154.15119 165.021018 \nL 155.371084 166.031324 \nL 157.810873 166.864418 \nL 158.42082 166.789757 \nL 159.640714 167.736141 \nL 160.250662 167.38599 \nL 160.860609 167.579998 \nL 161.470556 167.503315 \nL 162.69045 167.88316 \nL 163.300397 167.806045 \nL 163.910345 167.467627 \nL 164.520292 167.654484 \nL 165.740186 166.990909 \nL 166.350133 167.177287 \nL 167.570028 167.03698 \nL 168.179975 167.472 \nL 168.789922 167.400995 \nL 169.399869 167.579998 \nL 170.009816 167.26131 \nL 170.619763 167.43913 \nL 171.229711 167.124646 \nL 171.839658 167.05742 \nL 172.449605 166.020645 \nL 173.059552 165.960001 \nL 173.669499 165.660002 \nL 174.279446 165.601894 \nL 174.889394 165.781884 \nL 175.499341 165.723748 \nL 176.719235 166.076908 \nL 177.939129 165.960001 \nL 178.549077 165.672183 \nL 179.159024 165.845454 \nL 179.768971 166.244927 \nL 180.988865 165.677908 \nL 181.598812 165.623165 \nL 182.20876 165.792415 \nL 184.648548 165.57652 \nL 185.258495 165.305768 \nL 187.088337 165.153836 \nL 188.308231 165.480844 \nL 188.918178 165.218129 \nL 189.528126 165.168834 \nL 190.138073 165.33 \nL 190.74802 165.280644 \nL 191.357967 165.64789 \nL 191.967914 165.183285 \nL 192.577861 165.341456 \nL 193.187809 164.882441 \nL 194.407703 165.197223 \nL 195.01765 165.150003 \nL 195.627597 165.5064 \nL 196.237544 165.257521 \nL 196.847492 164.811011 \nL 197.457439 164.766319 \nL 198.677333 165.072523 \nL 199.28728 164.634542 \nL 200.507175 164.937941 \nL 201.117122 164.699998 \nL 201.727069 164.850126 \nL 202.337016 164.614576 \nL 204.166858 164.489119 \nL 204.776805 164.637003 \nL 205.996699 164.554216 \nL 206.606646 164.886666 \nL 207.216593 165.030494 \nL 207.826541 165.358287 \nL 209.046435 165.271337 \nL 209.656382 165.411292 \nL 210.266329 165.732292 \nL 210.876276 165.687837 \nL 211.486224 165.282314 \nL 212.096171 165.240001 \nL 212.706118 164.839446 \nL 213.316065 164.977793 \nL 213.926012 165.292939 \nL 214.535959 165.42844 \nL 215.145907 165.209883 \nL 215.755854 165.168834 \nL 216.365801 165.30324 \nL 216.975748 164.913229 \nL 217.585695 165.047588 \nL 218.80559 164.96829 \nL 220.025484 165.232526 \nL 220.635431 165.192633 \nL 221.245378 165.322923 \nL 221.855325 165.113733 \nL 222.465273 165.243347 \nL 223.07522 165.036003 \nL 223.685167 165.332325 \nL 224.295114 165.292939 \nL 224.905061 165.586152 \nL 227.34485 166.082815 \nL 227.954797 166.041584 \nL 231.004533 166.641204 \nL 231.61448 166.918309 \nL 232.224427 167.034317 \nL 232.834374 167.30811 \nL 234.054269 167.535002 \nL 234.664216 167.333356 \nL 236.494057 167.202742 \nL 237.104005 167.469418 \nL 237.713952 167.579998 \nL 238.323899 167.382306 \nL 238.933846 167.492433 \nL 239.543793 167.754547 \nL 240.763688 167.666691 \nL 241.983582 167.881396 \nL 243.813423 167.750525 \nL 244.423371 167.856198 \nL 245.033318 167.812939 \nL 245.643265 167.622216 \nL 246.863159 167.831648 \nL 247.473106 168.081677 \nL 248.083054 167.746686 \nL 249.302948 167.372971 \nL 249.912895 167.332356 \nL 250.522842 167.004002 \nL 251.132789 166.821268 \nL 251.742737 167.068958 \nL 252.352684 167.029808 \nL 252.962631 166.848717 \nL 253.572578 167.094 \nL 254.182525 167.196449 \nL 255.40242 167.118577 \nL 256.012367 167.360001 \nL 259.062103 167.855745 \nL 260.281997 167.77577 \nL 262.111838 168.065029 \nL 263.331733 167.310003 \nL 264.551627 167.234909 \nL 265.161574 167.465308 \nL 266.381469 167.656011 \nL 267.601363 168.108977 \nL 268.21131 168.201625 \nL 268.821257 168.16226 \nL 270.041152 167.561322 \nL 270.651099 167.654484 \nL 271.261046 167.617133 \nL 271.870993 167.709598 \nL 272.48094 167.672308 \nL 273.090887 167.892954 \nL 273.700835 167.983851 \nL 274.310782 167.689828 \nL 275.530676 167.871237 \nL 276.140623 168.088233 \nL 276.75057 168.177319 \nL 277.360518 168.013206 \nL 277.970465 168.227999 \nL 279.190359 168.403427 \nL 279.800306 168.365454 \nL 280.410253 168.078459 \nL 281.630148 168.252785 \nL 282.240095 168.462833 \nL 283.459989 168.633657 \nL 284.069936 168.840975 \nL 284.679884 168.680377 \nL 287.119672 169.49808 \nL 288.949514 169.739998 \nL 290.169408 169.421682 \nL 290.779355 169.501893 \nL 291.99925 169.424176 \nL 292.609197 169.503751 \nL 293.219144 169.34727 \nL 293.829091 169.309121 \nL 294.439038 169.388372 \nL 295.658933 169.079228 \nL 296.26888 169.274771 \nL 296.878827 169.237291 \nL 297.488774 168.852857 \nL 298.098721 168.932061 \nL 298.708668 168.895737 \nL 299.318616 168.515088 \nL 299.928563 168.480001 \nL 300.53851 168.559347 \nL 301.148457 168.524321 \nL 301.758404 168.60316 \nL 302.368351 168.454803 \nL 303.588246 168.72448 \nL 304.198193 168.689481 \nL 305.418087 168.956002 \nL 306.028034 168.808963 \nL 307.247929 168.850586 \nL 308.467823 168.891803 \nL 309.687717 169.152815 \nL 310.297665 169.007797 \nL 310.907612 169.192174 \nL 312.127506 169.013076 \nL 312.737453 168.543456 \nL 313.3474 168.618659 \nL 313.957348 168.260477 \nL 317.007083 168.206606 \nL 317.617031 168.388097 \nL 318.226978 168.249297 \nL 320.666766 168.43898 \nL 321.886661 168.270001 \nL 322.496608 168.238476 \nL 323.106555 168.416127 \nL 325.546344 168.290136 \nL 326.156291 168.052349 \nL 326.766238 168.227999 \nL 327.376185 168.094283 \nL 327.986132 168.166423 \nL 328.59608 167.931062 \nL 330.425921 167.739818 \nL 331.035868 167.608995 \nL 331.645815 167.68125 \nL 332.255763 167.551136 \nL 332.86571 167.623202 \nL 333.475657 167.493791 \nL 334.695551 167.637221 \nL 335.305498 167.508635 \nL 336.525393 167.65105 \nL 337.745287 167.49511 \nL 341.40497 167.328618 \nL 342.014917 167.106194 \nL 345.064653 167.552427 \nL 346.284548 167.785929 \nL 348.114389 167.893765 \nL 348.724336 167.675295 \nL 350.554178 167.59353 \nL 351.164125 167.3775 \nL 351.774072 167.539585 \nL 352.384019 167.41867 \nL 352.993966 167.486086 \nL 353.603914 167.365786 \nL 355.433755 167.566696 \nL 356.653649 167.420982 \nL 363.363068 168.046563 \nL 363.363068 168.046563 \n\" clip-path=\"url(#p4a38ea2118)\" style=\"fill: none; stroke: #9467bd; stroke-width: 1.5; stroke-linecap: square\"/>\n   </g>\n   <g id=\"line2d_18\">\n    <path d=\"M 58.999432 154.619999 \nL 59.609379 177.299997 \nL 60.219326 184.859997 \nL 60.829273 177.299997 \nL 61.43922 181.836 \nL 62.049168 184.859997 \nL 62.659115 174.059997 \nL 63.269062 171.630003 \nL 63.879009 179.819997 \nL 64.488956 186.372002 \nL 65.708851 173.520001 \nL 66.318798 168.576921 \nL 66.928745 170.819998 \nL 67.538692 166.716001 \nL 68.148639 171.630003 \nL 68.758586 173.297645 \nL 69.368534 172.259998 \nL 69.978481 173.71895 \nL 70.588428 177.299997 \nL 71.198375 174.059997 \nL 71.808322 173.176365 \nL 73.028217 175.409999 \nL 74.248111 180.789228 \nL 74.858058 183.179999 \nL 75.468005 182.16 \nL 76.6879 186.372002 \nL 77.907794 187.222501 \nL 79.737635 180.539997 \nL 80.347583 182.339997 \nL 80.95753 180.364867 \nL 81.567477 179.687369 \nL 82.177424 181.370766 \nL 82.787371 180.702001 \nL 83.397319 181.172195 \nL 84.007266 180.539997 \nL 84.617213 182.046974 \nL 85.22716 181.423636 \nL 85.837107 179.819997 \nL 87.057002 180.677871 \nL 88.276896 179.614289 \nL 88.886843 176.392802 \nL 89.49679 175.076468 \nL 91.936579 176.887634 \nL 92.546526 178.110002 \nL 93.156473 177.697896 \nL 93.76642 178.082067 \nL 94.986315 177.299997 \nL 95.596262 177.671806 \nL 96.206209 177.299997 \nL 96.816156 175.499997 \nL 97.426103 175.173753 \nL 98.036051 172.764002 \nL 98.645998 173.863637 \nL 99.255945 172.899401 \nL 100.475839 172.369564 \nL 101.085786 171.467999 \nL 102.305681 173.520001 \nL 102.915628 173.261098 \nL 103.525575 174.235134 \nL 104.135522 174.578399 \nL 104.745469 173.71895 \nL 105.965364 175.555382 \nL 106.575311 174.716204 \nL 107.795205 175.340001 \nL 108.405152 175.087316 \nL 109.0151 175.933733 \nL 109.625047 175.139997 \nL 110.234994 175.96588 \nL 110.844941 175.717676 \nL 111.454888 174.953796 \nL 112.064835 175.238181 \nL 113.28473 173.772003 \nL 114.504624 174.34174 \nL 116.334466 173.71895 \nL 117.55436 172.389895 \nL 118.164307 170.819998 \nL 118.774254 171.114549 \nL 119.384201 170.949598 \nL 119.994149 171.237032 \nL 120.604096 171.963527 \nL 121.214043 171.795143 \nL 122.433937 172.332003 \nL 123.043884 171.309057 \nL 124.263779 171.840003 \nL 124.873726 171.682021 \nL 126.09362 172.191892 \nL 126.703567 172.034998 \nL 128.533409 173.947302 \nL 129.753303 173.616921 \nL 130.973198 174.059997 \nL 131.583145 173.898001 \nL 132.193092 174.488427 \nL 132.803039 174.69738 \nL 133.412986 174.165366 \nL 134.022933 174.373548 \nL 134.632881 174.215519 \nL 135.242828 174.779997 \nL 135.852775 174.621258 \nL 136.462722 175.173753 \nL 137.072669 175.366044 \nL 137.682616 174.857539 \nL 138.902511 174.550909 \nL 140.122405 173.57642 \nL 140.732352 172.764002 \nL 141.342299 172.630589 \nL 141.952247 172.830221 \nL 143.782088 172.440001 \nL 144.392035 172.957023 \nL 145.001982 172.827889 \nL 145.61193 172.066151 \nL 146.221877 171.630003 \nL 146.831824 172.138346 \nL 147.441771 172.018357 \nL 148.051718 172.208574 \nL 148.661665 171.476759 \nL 149.271613 171.059198 \nL 149.88156 171.252003 \nL 150.491507 171.141856 \nL 151.101454 171.630003 \nL 151.711401 171.222351 \nL 154.15119 171.955031 \nL 155.371084 171.73698 \nL 155.981031 172.197002 \nL 156.590979 172.369564 \nL 157.200926 172.259998 \nL 157.810873 172.708347 \nL 158.42082 172.598051 \nL 159.030767 171.664366 \nL 159.640714 171.561688 \nL 160.250662 171.731857 \nL 161.470556 171.529352 \nL 162.080503 171.696709 \nL 162.69045 172.127369 \nL 163.300397 172.289305 \nL 163.910345 172.187168 \nL 164.520292 172.607588 \nL 165.740186 172.918638 \nL 166.350133 172.558983 \nL 166.96008 172.967865 \nL 167.570028 172.358546 \nL 168.179975 172.512 \nL 168.789922 172.413147 \nL 169.399869 172.066151 \nL 170.009816 172.218686 \nL 170.619763 171.876523 \nL 171.229711 172.028435 \nL 171.839658 172.422583 \nL 172.449605 172.32738 \nL 173.059552 172.474466 \nL 173.669499 172.38 \nL 174.279446 172.047787 \nL 174.889394 171.481571 \nL 175.499341 171.630003 \nL 176.109288 171.541863 \nL 177.939129 172.671428 \nL 179.768971 172.399297 \nL 180.378918 172.083597 \nL 181.598812 171.910691 \nL 182.20876 172.272414 \nL 182.818707 172.408233 \nL 183.428654 172.321465 \nL 184.038601 171.574949 \nL 184.648548 171.493042 \nL 185.258495 171.848074 \nL 185.868443 171.331579 \nL 186.47839 171.036 \nL 187.088337 171.388153 \nL 187.698284 171.309057 \nL 188.308231 171.443659 \nL 188.918178 171.788972 \nL 189.528126 171.498138 \nL 190.138073 171.840003 \nL 190.74802 171.969678 \nL 191.967914 172.639728 \nL 192.577861 172.145457 \nL 193.187809 172.2714 \nL 194.407703 171.70628 \nL 195.627597 171.554401 \nL 196.847492 171.804849 \nL 197.457439 172.127369 \nL 198.677333 171.975133 \nL 199.28728 172.096365 \nL 199.897227 172.021034 \nL 200.507175 171.751674 \nL 201.117122 171.678459 \nL 202.337016 172.302709 \nL 204.166858 172.650123 \nL 204.776805 171.630003 \nL 205.386752 171.935848 \nL 205.996699 172.051734 \nL 206.606646 171.793331 \nL 207.216593 171.351147 \nL 208.436488 170.846338 \nL 209.046435 170.780646 \nL 210.876276 170.042403 \nL 211.486224 170.342388 \nL 212.706118 170.218101 \nL 213.316065 170.335278 \nL 213.926012 170.273647 \nL 215.145907 170.504824 \nL 215.755854 170.794881 \nL 216.365801 170.557296 \nL 216.975748 170.844925 \nL 217.585695 170.782761 \nL 218.195642 170.8942 \nL 220.025484 170.709965 \nL 221.245378 170.249666 \nL 221.855325 170.529854 \nL 224.295114 170.295885 \nL 224.905061 170.072305 \nL 225.515008 170.015914 \nL 226.124956 170.124871 \nL 226.734903 169.904347 \nL 228.564744 169.739998 \nL 229.174691 169.848002 \nL 230.394586 169.739998 \nL 231.61448 169.314082 \nL 232.224427 169.421682 \nL 232.834374 169.21133 \nL 233.444322 169.318537 \nL 235.274163 170.104966 \nL 236.494057 170.309586 \nL 237.104005 170.101228 \nL 237.713952 170.202859 \nL 238.323899 170.150036 \nL 238.933846 170.404052 \nL 240.15374 169.99369 \nL 241.373635 169.8912 \nL 241.983582 169.68977 \nL 243.203476 169.590296 \nL 243.813423 169.839472 \nL 244.423371 169.640854 \nL 245.643265 169.542995 \nL 246.253212 169.78909 \nL 246.863159 169.299611 \nL 248.083054 169.205206 \nL 248.693001 169.303849 \nL 249.302948 169.546773 \nL 249.912895 169.354779 \nL 251.132789 169.261516 \nL 251.742737 168.929148 \nL 253.572578 169.220252 \nL 254.182525 169.033455 \nL 254.792472 169.270432 \nL 255.40242 169.084642 \nL 256.012367 169.180001 \nL 256.622314 169.414341 \nL 257.232261 169.36896 \nL 257.842208 169.185138 \nL 258.452155 169.14073 \nL 259.062103 169.234466 \nL 259.67205 169.052726 \nL 260.281997 169.009122 \nL 260.891944 169.102412 \nL 261.501891 168.9227 \nL 262.111838 168.87988 \nL 262.721786 168.972717 \nL 263.94168 168.887538 \nL 265.771521 168.361412 \nL 266.381469 168.454134 \nL 266.991416 168.413687 \nL 267.601363 168.108977 \nL 268.821257 168.03078 \nL 269.431204 167.860922 \nL 270.041152 167.822767 \nL 270.651099 167.915171 \nL 271.261046 167.877077 \nL 271.870993 167.968799 \nL 272.48094 167.672308 \nL 273.090887 167.506364 \nL 273.700835 167.469857 \nL 274.310782 167.561694 \nL 276.140623 167.452939 \nL 276.75057 167.290388 \nL 277.970465 167.219998 \nL 278.580412 166.933795 \nL 279.800306 166.865953 \nL 280.410253 166.956924 \nL 281.020201 166.923122 \nL 282.240095 166.361692 \nL 285.289831 166.813549 \nL 285.899778 166.53764 \nL 286.509725 166.384491 \nL 287.729619 166.563189 \nL 288.339567 166.531509 \nL 288.949514 166.020002 \nL 289.559461 165.750555 \nL 290.169408 165.840634 \nL 290.779355 166.04929 \nL 291.389302 166.019374 \nL 291.99925 166.226475 \nL 292.609197 165.960001 \nL 293.219144 166.048364 \nL 293.829091 166.253782 \nL 294.439038 166.223724 \nL 295.048985 166.427628 \nL 296.26888 166.599696 \nL 297.488774 166.538573 \nL 298.098721 166.623664 \nL 298.708668 166.478071 \nL 299.318616 166.562885 \nL 300.53851 166.159951 \nL 301.148457 166.244927 \nL 301.758404 166.215788 \nL 302.368351 166.413602 \nL 303.588246 166.242088 \nL 305.418087 165.707999 \nL 306.637982 165.987863 \nL 307.247929 165.848827 \nL 308.467823 165.904684 \nL 309.687717 165.739808 \nL 310.907612 165.795652 \nL 312.127506 165.850962 \nL 312.737453 166.041584 \nL 313.957348 165.878803 \nL 315.177242 165.933066 \nL 315.787189 165.583793 \nL 317.007083 165.532079 \nL 317.617031 165.292939 \nL 320.056819 165.299158 \nL 322.496608 165.619535 \nL 323.716502 165.151862 \nL 324.326449 165.127705 \nL 324.936397 165.311257 \nL 325.546344 164.976164 \nL 326.156291 165.159223 \nL 327.986132 165.190315 \nL 328.59608 165.371244 \nL 329.206027 165.244868 \nL 331.035868 165.37651 \nL 332.86571 165.304802 \nL 333.475657 165.482263 \nL 335.305498 165.510395 \nL 337.13534 165.63742 \nL 340.185076 165.616365 \nL 342.014917 165.740518 \nL 343.844759 165.669229 \nL 345.6746 165.021018 \nL 349.944231 165.438072 \nL 350.554178 165.41549 \nL 351.774072 165.747818 \nL 354.823808 165.726668 \nL 356.653649 166.122329 \nL 357.263597 166.098855 \nL 357.873544 165.890713 \nL 358.483491 165.960001 \nL 359.093438 165.752982 \nL 360.313332 165.799633 \nL 361.533227 165.937182 \nL 363.363068 165.597122 \nL 363.363068 165.597122 \n\" clip-path=\"url(#p4a38ea2118)\" style=\"fill: none; stroke: #8c564b; stroke-width: 1.5; stroke-linecap: square\"/>\n   </g>\n   <g id=\"line2d_19\">\n    <path d=\"M 43.78125 169.5888 \nL 378.58125 169.5888 \n\" clip-path=\"url(#p4a38ea2118)\" style=\"fill: none; stroke-dasharray: 5.55,2.4; stroke-dashoffset: 0; stroke: #000000; stroke-width: 1.5\"/>\n   </g>\n   <g id=\"patch_3\">\n    <path d=\"M 43.78125 256.68 \nL 43.78125 7.2 \n\" style=\"fill: none; stroke: #000000; stroke-width: 0.8; stroke-linejoin: miter; stroke-linecap: square\"/>\n   </g>\n   <g id=\"patch_4\">\n    <path d=\"M 378.58125 256.68 \nL 378.58125 7.2 \n\" style=\"fill: none; stroke: #000000; stroke-width: 0.8; stroke-linejoin: miter; stroke-linecap: square\"/>\n   </g>\n   <g id=\"patch_5\">\n    <path d=\"M 43.78125 256.68 \nL 378.58125 256.68 \n\" style=\"fill: none; stroke: #000000; stroke-width: 0.8; stroke-linejoin: miter; stroke-linecap: square\"/>\n   </g>\n   <g id=\"patch_6\">\n    <path d=\"M 43.78125 7.2 \nL 378.58125 7.2 \n\" style=\"fill: none; stroke: #000000; stroke-width: 0.8; stroke-linejoin: miter; stroke-linecap: square\"/>\n   </g>\n   <g id=\"legend_1\">\n    <g id=\"patch_7\">\n     <path d=\"M 295.726562 103.26875 \nL 371.58125 103.26875 \nQ 373.58125 103.26875 373.58125 101.26875 \nL 373.58125 14.2 \nQ 373.58125 12.2 371.58125 12.2 \nL 295.726562 12.2 \nQ 293.726562 12.2 293.726562 14.2 \nL 293.726562 101.26875 \nQ 293.726562 103.26875 295.726562 103.26875 \nz\n\" style=\"fill: #ffffff; opacity: 0.8; stroke: #cccccc; stroke-linejoin: miter\"/>\n    </g>\n    <g id=\"line2d_20\">\n     <path d=\"M 297.726562 20.298437 \nL 307.726562 20.298437 \nL 317.726562 20.298437 \n\" style=\"fill: none; stroke: #1f77b4; stroke-width: 1.5; stroke-linecap: square\"/>\n    </g>\n    <g id=\"text_15\">\n     <!-- P(die=1) -->\n     <g transform=\"translate(325.726562 23.798437)scale(0.1 -0.1)\">\n      <defs>\n       <path id=\"DejaVuSans-50\" d=\"M 1259 4147 \nL 1259 2394 \nL 2053 2394 \nQ 2494 2394 2734 2622 \nQ 2975 2850 2975 3272 \nQ 2975 3691 2734 3919 \nQ 2494 4147 2053 4147 \nL 1259 4147 \nz\nM 628 4666 \nL 2053 4666 \nQ 2838 4666 3239 4311 \nQ 3641 3956 3641 3272 \nQ 3641 2581 3239 2228 \nQ 2838 1875 2053 1875 \nL 1259 1875 \nL 1259 0 \nL 628 0 \nL 628 4666 \nz\n\" transform=\"scale(0.015625)\"/>\n       <path id=\"DejaVuSans-28\" d=\"M 1984 4856 \nQ 1566 4138 1362 3434 \nQ 1159 2731 1159 2009 \nQ 1159 1288 1364 580 \nQ 1569 -128 1984 -844 \nL 1484 -844 \nQ 1016 -109 783 600 \nQ 550 1309 550 2009 \nQ 550 2706 781 3412 \nQ 1013 4119 1484 4856 \nL 1984 4856 \nz\n\" transform=\"scale(0.015625)\"/>\n       <path id=\"DejaVuSans-3d\" d=\"M 678 2906 \nL 4684 2906 \nL 4684 2381 \nL 678 2381 \nL 678 2906 \nz\nM 678 1631 \nL 4684 1631 \nL 4684 1100 \nL 678 1100 \nL 678 1631 \nz\n\" transform=\"scale(0.015625)\"/>\n       <path id=\"DejaVuSans-29\" d=\"M 513 4856 \nL 1013 4856 \nQ 1481 4119 1714 3412 \nQ 1947 2706 1947 2009 \nQ 1947 1309 1714 600 \nQ 1481 -109 1013 -844 \nL 513 -844 \nQ 928 -128 1133 580 \nQ 1338 1288 1338 2009 \nQ 1338 2731 1133 3434 \nQ 928 4138 513 4856 \nz\n\" transform=\"scale(0.015625)\"/>\n      </defs>\n      <use xlink:href=\"#DejaVuSans-50\"/>\n      <use xlink:href=\"#DejaVuSans-28\" x=\"60.302734\"/>\n      <use xlink:href=\"#DejaVuSans-64\" x=\"99.316406\"/>\n      <use xlink:href=\"#DejaVuSans-69\" x=\"162.792969\"/>\n      <use xlink:href=\"#DejaVuSans-65\" x=\"190.576172\"/>\n      <use xlink:href=\"#DejaVuSans-3d\" x=\"252.099609\"/>\n      <use xlink:href=\"#DejaVuSans-31\" x=\"335.888672\"/>\n      <use xlink:href=\"#DejaVuSans-29\" x=\"399.511719\"/>\n     </g>\n    </g>\n    <g id=\"line2d_21\">\n     <path d=\"M 297.726562 34.976562 \nL 307.726562 34.976562 \nL 317.726562 34.976562 \n\" style=\"fill: none; stroke: #ff7f0e; stroke-width: 1.5; stroke-linecap: square\"/>\n    </g>\n    <g id=\"text_16\">\n     <!-- P(die=2) -->\n     <g transform=\"translate(325.726562 38.476562)scale(0.1 -0.1)\">\n      <use xlink:href=\"#DejaVuSans-50\"/>\n      <use xlink:href=\"#DejaVuSans-28\" x=\"60.302734\"/>\n      <use xlink:href=\"#DejaVuSans-64\" x=\"99.316406\"/>\n      <use xlink:href=\"#DejaVuSans-69\" x=\"162.792969\"/>\n      <use xlink:href=\"#DejaVuSans-65\" x=\"190.576172\"/>\n      <use xlink:href=\"#DejaVuSans-3d\" x=\"252.099609\"/>\n      <use xlink:href=\"#DejaVuSans-32\" x=\"335.888672\"/>\n      <use xlink:href=\"#DejaVuSans-29\" x=\"399.511719\"/>\n     </g>\n    </g>\n    <g id=\"line2d_22\">\n     <path d=\"M 297.726562 49.654687 \nL 307.726562 49.654687 \nL 317.726562 49.654687 \n\" style=\"fill: none; stroke: #2ca02c; stroke-width: 1.5; stroke-linecap: square\"/>\n    </g>\n    <g id=\"text_17\">\n     <!-- P(die=3) -->\n     <g transform=\"translate(325.726562 53.154687)scale(0.1 -0.1)\">\n      <use xlink:href=\"#DejaVuSans-50\"/>\n      <use xlink:href=\"#DejaVuSans-28\" x=\"60.302734\"/>\n      <use xlink:href=\"#DejaVuSans-64\" x=\"99.316406\"/>\n      <use xlink:href=\"#DejaVuSans-69\" x=\"162.792969\"/>\n      <use xlink:href=\"#DejaVuSans-65\" x=\"190.576172\"/>\n      <use xlink:href=\"#DejaVuSans-3d\" x=\"252.099609\"/>\n      <use xlink:href=\"#DejaVuSans-33\" x=\"335.888672\"/>\n      <use xlink:href=\"#DejaVuSans-29\" x=\"399.511719\"/>\n     </g>\n    </g>\n    <g id=\"line2d_23\">\n     <path d=\"M 297.726562 64.332812 \nL 307.726562 64.332812 \nL 317.726562 64.332812 \n\" style=\"fill: none; stroke: #d62728; stroke-width: 1.5; stroke-linecap: square\"/>\n    </g>\n    <g id=\"text_18\">\n     <!-- P(die=4) -->\n     <g transform=\"translate(325.726562 67.832812)scale(0.1 -0.1)\">\n      <use xlink:href=\"#DejaVuSans-50\"/>\n      <use xlink:href=\"#DejaVuSans-28\" x=\"60.302734\"/>\n      <use xlink:href=\"#DejaVuSans-64\" x=\"99.316406\"/>\n      <use xlink:href=\"#DejaVuSans-69\" x=\"162.792969\"/>\n      <use xlink:href=\"#DejaVuSans-65\" x=\"190.576172\"/>\n      <use xlink:href=\"#DejaVuSans-3d\" x=\"252.099609\"/>\n      <use xlink:href=\"#DejaVuSans-34\" x=\"335.888672\"/>\n      <use xlink:href=\"#DejaVuSans-29\" x=\"399.511719\"/>\n     </g>\n    </g>\n    <g id=\"line2d_24\">\n     <path d=\"M 297.726562 79.010937 \nL 307.726562 79.010937 \nL 317.726562 79.010937 \n\" style=\"fill: none; stroke: #9467bd; stroke-width: 1.5; stroke-linecap: square\"/>\n    </g>\n    <g id=\"text_19\">\n     <!-- P(die=5) -->\n     <g transform=\"translate(325.726562 82.510937)scale(0.1 -0.1)\">\n      <use xlink:href=\"#DejaVuSans-50\"/>\n      <use xlink:href=\"#DejaVuSans-28\" x=\"60.302734\"/>\n      <use xlink:href=\"#DejaVuSans-64\" x=\"99.316406\"/>\n      <use xlink:href=\"#DejaVuSans-69\" x=\"162.792969\"/>\n      <use xlink:href=\"#DejaVuSans-65\" x=\"190.576172\"/>\n      <use xlink:href=\"#DejaVuSans-3d\" x=\"252.099609\"/>\n      <use xlink:href=\"#DejaVuSans-35\" x=\"335.888672\"/>\n      <use xlink:href=\"#DejaVuSans-29\" x=\"399.511719\"/>\n     </g>\n    </g>\n    <g id=\"line2d_25\">\n     <path d=\"M 297.726562 93.689062 \nL 307.726562 93.689062 \nL 317.726562 93.689062 \n\" style=\"fill: none; stroke: #8c564b; stroke-width: 1.5; stroke-linecap: square\"/>\n    </g>\n    <g id=\"text_20\">\n     <!-- P(die=6) -->\n     <g transform=\"translate(325.726562 97.189062)scale(0.1 -0.1)\">\n      <defs>\n       <path id=\"DejaVuSans-36\" d=\"M 2113 2584 \nQ 1688 2584 1439 2293 \nQ 1191 2003 1191 1497 \nQ 1191 994 1439 701 \nQ 1688 409 2113 409 \nQ 2538 409 2786 701 \nQ 3034 994 3034 1497 \nQ 3034 2003 2786 2293 \nQ 2538 2584 2113 2584 \nz\nM 3366 4563 \nL 3366 3988 \nQ 3128 4100 2886 4159 \nQ 2644 4219 2406 4219 \nQ 1781 4219 1451 3797 \nQ 1122 3375 1075 2522 \nQ 1259 2794 1537 2939 \nQ 1816 3084 2150 3084 \nQ 2853 3084 3261 2657 \nQ 3669 2231 3669 1497 \nQ 3669 778 3244 343 \nQ 2819 -91 2113 -91 \nQ 1303 -91 875 529 \nQ 447 1150 447 2328 \nQ 447 3434 972 4092 \nQ 1497 4750 2381 4750 \nQ 2619 4750 2861 4703 \nQ 3103 4656 3366 4563 \nz\n\" transform=\"scale(0.015625)\"/>\n      </defs>\n      <use xlink:href=\"#DejaVuSans-50\"/>\n      <use xlink:href=\"#DejaVuSans-28\" x=\"60.302734\"/>\n      <use xlink:href=\"#DejaVuSans-64\" x=\"99.316406\"/>\n      <use xlink:href=\"#DejaVuSans-69\" x=\"162.792969\"/>\n      <use xlink:href=\"#DejaVuSans-65\" x=\"190.576172\"/>\n      <use xlink:href=\"#DejaVuSans-3d\" x=\"252.099609\"/>\n      <use xlink:href=\"#DejaVuSans-36\" x=\"335.888672\"/>\n      <use xlink:href=\"#DejaVuSans-29\" x=\"399.511719\"/>\n     </g>\n    </g>\n   </g>\n  </g>\n </g>\n <defs>\n  <clipPath id=\"p4a38ea2118\">\n   <rect x=\"43.78125\" y=\"7.2\" width=\"334.8\" height=\"249.48\"/>\n  </clipPath>\n </defs>\n</svg>\n",
      "text/plain": [
       "<Figure size 600x450 with 1 Axes>"
      ]
     },
     "metadata": {},
     "output_type": "display_data"
    }
   ],
   "source": [
    "counts = tfp.distributions.Multinomial(10, fair_probs).sample(500)\n",
    "cum_counts = tf.cumsum(counts, axis=0) # 按列累加【a, a+b, a+b+c, ...】\n",
    "estimates = cum_counts / tf.reduce_sum(cum_counts, axis=1, keepdims=True)\n",
    "\n",
    "d2l.set_figsize((6,4.5))\n",
    "for i in range(6):\n",
    "    d2l.plt.plot(estimates[:, i].numpy(), label=(\"P(die=\"+str(i+1)+\")\"))\n",
    "d2l.plt.axhline(y=0.167, color='black', linestyle='dashed')\n",
    "d2l.plt.gca().set_xlabel('Groups of experiments')\n",
    "d2l.plt.gca().set_ylabel('Estimated probability')\n",
    "d2l.plt.legend()"
   ]
  },
  {
   "cell_type": "code",
   "execution_count": 14,
   "metadata": {},
   "outputs": [
    {
     "data": {
      "text/plain": [
       "<tf.Tensor: shape=(500, 6), dtype=float32, numpy=\n",
       "array([[0.3       , 0.        , 0.        , 0.5       , 0.        ,\n",
       "        0.2       ],\n",
       "       [0.25      , 0.1       , 0.05      , 0.35      , 0.1       ,\n",
       "        0.15      ],\n",
       "       [0.16666667, 0.1       , 0.1       , 0.33333334, 0.16666667,\n",
       "        0.13333334],\n",
       "       ...,\n",
       "       [0.16044177, 0.1626506 , 0.16526105, 0.16586345, 0.17048194,\n",
       "        0.17530121],\n",
       "       [0.16052105, 0.16252504, 0.16533066, 0.16593187, 0.17014028,\n",
       "        0.1755511 ],\n",
       "       [0.1602    , 0.1622    , 0.1658    , 0.1656    , 0.1704    ,\n",
       "        0.1758    ]], dtype=float32)>"
      ]
     },
     "execution_count": 14,
     "metadata": {},
     "output_type": "execute_result"
    }
   ],
   "source": [
    "estimates"
   ]
  },
  {
   "cell_type": "code",
   "execution_count": null,
   "metadata": {},
   "outputs": [],
   "source": []
  }
 ],
 "metadata": {
  "kernelspec": {
   "display_name": "tf",
   "language": "python",
   "name": "python3"
  },
  "language_info": {
   "codemirror_mode": {
    "name": "ipython",
    "version": 3
   },
   "file_extension": ".py",
   "mimetype": "text/x-python",
   "name": "python",
   "nbconvert_exporter": "python",
   "pygments_lexer": "ipython3",
   "version": "3.7.16"
  },
  "orig_nbformat": 4
 },
 "nbformat": 4,
 "nbformat_minor": 2
}
